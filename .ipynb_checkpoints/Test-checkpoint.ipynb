{
 "cells": [
  {
   "cell_type": "code",
   "execution_count": 1,
   "metadata": {},
   "outputs": [],
   "source": [
    "#\n",
    "# import the SiPM classes\n",
    "#\n",
    "from SiPM import *\n",
    "# for plotting\n",
    "import matplotlib\n",
    "import matplotlib.pyplot as plt\n",
    "%matplotlib inline"
   ]
  },
  {
   "cell_type": "code",
   "execution_count": 2,
   "metadata": {},
   "outputs": [],
   "source": [
    "# z position of the in-plane SiPMs\n",
    "z_plane = 10\n",
    "# radius of the cyinder for SiPMs at the side\n",
    "r_cylinder = 22\n",
    "# radius of a SiPM - I assume circular SiPMs with a radius to make the area correspond to a 3x3mm2 square.\n",
    "r_sipm = 1.6925\n",
    "#wire thickness of anode wire\n",
    "wire_thickness = 4 *10**-3\n",
    "#wire spacing of anode wires\n",
    "wire_spacing = 2.6-wire_thickness\n",
    "# build geometry\n",
    "geo = GeoParameters(z_plane=z_plane, r_cylinder=r_cylinder, r_sipm=r_sipm, wire_thickness=wire_thickness, wire_spacing=wire_spacing)"
   ]
  },
  {
   "cell_type": "code",
   "execution_count": 3,
   "metadata": {},
   "outputs": [
    {
     "name": "stdout",
     "output_type": "stream",
     "text": [
      "[0, 3.6925, 10]\n",
      "[0, -3.6925, 10]\n",
      "[9.092500000000001, 26, 10]\n",
      "[-9.092500000000001, 26, 10]\n",
      "[9.092500000000001, -26, 10]\n",
      "[-9.092500000000001, -26, 10]\n",
      "[24.092499999999998, 0, 10]\n",
      "[-24.092499999999998, 0, 10]\n"
     ]
    }
   ],
   "source": [
    "# generate a XAMS geometry with SiPMs in plane above the LXe\n",
    "list_pos = ([0,(2+r_sipm),z_plane],[0,-(2+r_sipm),z_plane],[(7.4+r_sipm),26,z_plane],[-(7.4+r_sipm),26,z_plane],[(7.4+r_sipm),-26,z_plane],[-(7.4+r_sipm),-26,z_plane],[(22.4+r_sipm),0,z_plane],[-(22.4+r_sipm),0,z_plane])\n",
    "\n",
    "for i in range(len(list_pos)):\n",
    "    sipm = SiPM(type=\"plane\",position=list_pos[i],qeff=0.25)\n",
    "    geo.add_sipm(sipm)\n",
    "\n",
    "\n",
    "for sip in geo.get_sipms():  \n",
    "    print(sip.get_location())"
   ]
  },
  {
   "cell_type": "code",
   "execution_count": 4,
   "metadata": {},
   "outputs": [
    {
     "name": "stdout",
     "output_type": "stream",
     "text": [
      "simulate @ x=  0.0  mm simulate @ y=  0.0 mm\n",
      "generated  0  events\n",
      "Number of SiPMs =  8  Generated hits from x= [0. 0. 0.]\n",
      " 0  (x,y,z) = ( 0.0,  3.7, 10.0) p(hit) = 0.00125  qe = 0.250\n",
      " 1  (x,y,z) = ( 0.0, -3.7, 10.0) p(hit) = 0.00150  qe = 0.250\n",
      " 2  (x,y,z) = ( 9.1, 26.0, 10.0) p(hit) = 0.00025  qe = 0.250\n",
      " 3  (x,y,z) = (-9.1, 26.0, 10.0) p(hit) = 0.00000  qe = 0.250\n",
      " 4  (x,y,z) = ( 9.1, -26.0, 10.0) p(hit) = 0.00025  qe = 0.250\n",
      " 5  (x,y,z) = (-9.1, -26.0, 10.0) p(hit) = 0.00000  qe = 0.250\n",
      " 6  (x,y,z) = (24.1,  0.0, 10.0) p(hit) = 0.00000  qe = 0.250\n",
      " 7  (x,y,z) = (-24.1,  0.0, 10.0) p(hit) = 0.00000  qe = 0.250\n",
      "event generation done\n",
      "simulate @ x=  0.0  mm simulate @ y=  20.0 mm\n",
      "generated  0  events\n",
      "Number of SiPMs =  8  Generated hits from x= [ 0. 20.  0.]\n",
      " 0  (x,y,z) = ( 0.0,  3.7, 10.0) p(hit) = 0.00025  qe = 0.250\n",
      " 1  (x,y,z) = ( 0.0, -3.7, 10.0) p(hit) = 0.00000  qe = 0.250\n",
      " 2  (x,y,z) = ( 9.1, 26.0, 10.0) p(hit) = 0.00100  qe = 0.250\n",
      " 3  (x,y,z) = (-9.1, 26.0, 10.0) p(hit) = 0.00025  qe = 0.250\n",
      " 4  (x,y,z) = ( 9.1, -26.0, 10.0) p(hit) = 0.00000  qe = 0.250\n",
      " 5  (x,y,z) = (-9.1, -26.0, 10.0) p(hit) = 0.00000  qe = 0.250\n",
      " 6  (x,y,z) = (24.1,  0.0, 10.0) p(hit) = 0.00000  qe = 0.250\n",
      " 7  (x,y,z) = (-24.1,  0.0, 10.0) p(hit) = 0.00000  qe = 0.250\n",
      "event generation done\n",
      "simulate @ x=  20.0  mm simulate @ y=  0.0 mm\n",
      "generated  0  events\n",
      "Number of SiPMs =  8  Generated hits from x= [20.  0.  0.]\n",
      " 0  (x,y,z) = ( 0.0,  3.7, 10.0) p(hit) = 0.00025  qe = 0.250\n",
      " 1  (x,y,z) = ( 0.0, -3.7, 10.0) p(hit) = 0.00025  qe = 0.250\n",
      " 2  (x,y,z) = ( 9.1, 26.0, 10.0) p(hit) = 0.00000  qe = 0.250\n",
      " 3  (x,y,z) = (-9.1, 26.0, 10.0) p(hit) = 0.00000  qe = 0.250\n",
      " 4  (x,y,z) = ( 9.1, -26.0, 10.0) p(hit) = 0.00000  qe = 0.250\n",
      " 5  (x,y,z) = (-9.1, -26.0, 10.0) p(hit) = 0.00000  qe = 0.250\n",
      " 6  (x,y,z) = (24.1,  0.0, 10.0) p(hit) = 0.00125  qe = 0.250\n",
      " 7  (x,y,z) = (-24.1,  0.0, 10.0) p(hit) = 0.00000  qe = 0.250\n",
      "event generation done\n",
      "simulate @ x=  20.0  mm simulate @ y=  20.0 mm\n",
      "generated  0  events\n",
      "Number of SiPMs =  8  Generated hits from x= [20. 20.  0.]\n",
      " 0  (x,y,z) = ( 0.0,  3.7, 10.0) p(hit) = 0.00025  qe = 0.250\n",
      " 1  (x,y,z) = ( 0.0, -3.7, 10.0) p(hit) = 0.00000  qe = 0.250\n",
      " 2  (x,y,z) = ( 9.1, 26.0, 10.0) p(hit) = 0.00075  qe = 0.250\n",
      " 3  (x,y,z) = (-9.1, 26.0, 10.0) p(hit) = 0.00000  qe = 0.250\n",
      " 4  (x,y,z) = ( 9.1, -26.0, 10.0) p(hit) = 0.00000  qe = 0.250\n",
      " 5  (x,y,z) = (-9.1, -26.0, 10.0) p(hit) = 0.00000  qe = 0.250\n",
      " 6  (x,y,z) = (24.1,  0.0, 10.0) p(hit) = 0.00000  qe = 0.250\n",
      " 7  (x,y,z) = (-24.1,  0.0, 10.0) p(hit) = 0.00000  qe = 0.250\n",
      "event generation done\n"
     ]
    }
   ],
   "source": [
    "n_mc = 1000\n",
    "sims = []\n",
    "xbins = 2\n",
    "ybins = 2\n",
    "xmax = 20\n",
    "ymax = 20\n",
    "\n",
    "for x in np.linspace(0,xmax,xbins,endpoint=True):\n",
    "    for y in np.linspace(0,ymax,ybins,endpoint=True):\n",
    "        print(\"simulate @ x= \",x,\" mm\", \"simulate @ y= \",y, \"mm\")\n",
    "        sim = Simulator(geo=geo,uv_position=[x,y,0],n_mc=n_mc)\n",
    "        sim.generate_events()\n",
    "        sims.append(sim)"
   ]
  },
  {
   "cell_type": "code",
   "execution_count": 7,
   "metadata": {},
   "outputs": [
    {
     "name": "stdout",
     "output_type": "stream",
     "text": [
      "generated  0  events\n",
      "reconstruction done\n",
      "              I       chi2       fval  status  xgen        xr  ygen        yr\n",
      "0  15148.434831  12.669047   8.798579     1.0   0.0  7.007929   0.0  0.938735\n",
      "1  15176.848718  12.423969   8.566554     1.0   0.0  4.786881   0.0 -6.633905\n",
      "2  18808.998973  15.193240  10.016578     1.0   0.0  6.089309   0.0 -1.577811\n",
      "3  19266.486562  11.907610   7.758143     1.0   0.0  3.866964   0.0 -9.875238\n",
      "4  17761.079717  16.390318  11.576003     1.0   0.0  6.315274   0.0 -1.167772\n",
      "5  18958.781060  15.554974  10.359086     1.0   0.0  5.872725   0.0 -2.831044\n",
      "6  14041.808250  13.967205  10.134118     1.0   0.0  6.268532   0.0  0.794634\n",
      "7  17675.877187  23.210919  17.820266     1.0   0.0 -4.986865   0.0 -0.630069\n",
      "8  12301.925642   9.326088   5.207635     1.0   0.0  0.817422   0.0 -5.190163\n",
      "9  14490.055021  18.512146  14.330492     1.0   0.0 -5.654890   0.0 -0.335255\n",
      "generated  0  events\n",
      "reconstruction done\n",
      "              I       chi2       fval  status  xgen        xr  ygen        yr\n",
      "0  13963.768385  11.311913   5.282352     1.0   0.0  6.063467   0.0  1.016461\n",
      "1  13963.768385  11.637563  10.227172     1.0   0.0  5.350924   0.0 -4.342253\n",
      "2  13963.768385  12.152085  10.839767     1.0   0.0  4.840858   0.0 -3.375700\n",
      "3  13963.768385  12.413325   6.454651     1.0   0.0 -3.975137   0.0 -3.348404\n",
      "4  13963.768385  17.018713  17.417729     1.0   0.0  5.575312   0.0  1.118941\n",
      "5  13963.768385  14.072521  15.708036     1.0   0.0  3.220282   0.0 -3.445299\n",
      "6  13963.768385  11.059629   7.974635     1.0   0.0  5.230798   0.0  3.342870\n",
      "7  13963.768385  15.651659  15.805681     1.0   0.0  6.558630   0.0  0.470091\n",
      "8  13963.768385   9.108507   6.431977     1.0   0.0  4.377707   0.0  7.421919\n",
      "9  13963.768385  11.292612   6.146051     1.0   0.0  6.988456   0.0  0.583710\n",
      "generated  0  events\n",
      "reconstruction done\n",
      "              I      chi2      fval  status  xgen         xr  ygen         yr\n",
      "0   8461.510907  3.652707  1.860320     1.0   0.0   4.437037  20.0  22.560581\n",
      "1   6097.707107  2.720944  1.190930     1.0   0.0   9.386855  20.0  25.071974\n",
      "2  13714.305403  6.358703  3.889569     1.0   0.0   2.845999  20.0  19.115072\n",
      "3   8894.813749  4.741721  3.104450     1.0   0.0   8.037585  20.0  18.868824\n",
      "4   8894.813749  4.741721  3.104450     1.0   0.0   8.037585  20.0  18.868824\n",
      "5  10895.341243  5.201081  3.219755     1.0   0.0   4.564232  20.0  18.809380\n",
      "6   6899.537246  3.057498  1.509860     1.0   0.0  10.314986  20.0  28.340749\n",
      "7   7955.297739  3.965908  2.263610     1.0   0.0   9.039137  20.0  21.363265\n",
      "8   8647.742039  3.202750  1.647545     1.0   0.0   5.071517  20.0  30.661892\n",
      "9  14828.318120  7.264826  4.640910     1.0   0.0   4.281824  20.0  18.067737\n",
      "generated  0  events\n",
      "reconstruction done\n",
      "              I      chi2      fval  status  xgen         xr  ygen         yr\n",
      "0  13963.768385  9.484158  5.554920     1.0   0.0   9.476360  20.0  15.092319\n",
      "1  13963.768385  5.451243  3.399365     1.0   0.0  17.955014  20.0  22.634586\n",
      "2  13963.768385  8.238293  4.392561     1.0   0.0  11.421017  20.0  17.360580\n",
      "3  13963.768385  9.143127  5.412570     1.0   0.0   9.092299  20.0  15.690683\n",
      "4  13963.768385  7.415105  4.195350     1.0   0.0  13.076613  20.0  18.788293\n",
      "5  13963.768385  7.257225  3.497146     1.0   0.0   9.861902  20.0  19.938202\n",
      "6  13963.768385  5.553804  2.270013     1.0   0.0   3.939842  20.0  28.407914\n",
      "7  13963.768385  5.628691  3.913172     1.0   0.0  19.993389  20.0  21.707570\n",
      "8  13963.768385  6.828000  4.290031     1.0   0.0  15.729581  20.0  24.218908\n",
      "9  13963.768385  4.469585  2.233376     1.0   0.0   5.499129  20.0  32.747925\n",
      "generated  0  events\n",
      "reconstruction done\n",
      "              I       chi2      fval  status  xgen         xr  ygen        yr\n",
      "0  19418.475904  10.417426  6.986454     1.0  20.0  16.813478   0.0  2.686959\n",
      "1   9476.186653   4.256338  2.538344     1.0  20.0  16.650357   0.0 -1.270229\n",
      "2  13102.744454   5.888545  3.124942     1.0  20.0  19.564213   0.0  0.925938\n",
      "3  16003.095681  10.160318  7.488702     1.0  20.0  15.394948   0.0 -3.428812\n",
      "4  13957.805721   6.550713  3.858311     1.0  20.0  18.189849   0.0 -1.675006\n",
      "5   5186.714240   3.028237  1.801885     1.0  20.0  22.838520   0.0  1.460554\n",
      "6  10798.747582   4.706854  2.751814     1.0  20.0  16.365426   0.0 -0.000039\n",
      "7  11740.972935   5.104266  2.915031     1.0  20.0  17.094399   0.0 -0.000041\n",
      "8  14729.144569   8.952126  6.451462     1.0  20.0  15.978215   0.0 -3.211472\n",
      "9  12181.373067   5.294609  2.988687     1.0  20.0  17.419536   0.0 -0.000029\n",
      "generated  0  events\n",
      "reconstruction done\n",
      "              I      chi2      fval  status  xgen         xr  ygen        yr\n",
      "0  13963.768385  7.629269  3.562720     1.0  20.0  16.590770   0.0  2.859231\n",
      "1  13963.768385  9.964537  7.012546     1.0  20.0  16.545042   0.0  4.192376\n",
      "2  13963.768385  6.285696  3.641109     1.0  20.0  23.977121   0.0  7.565756\n",
      "3  13963.768385  7.006028  3.768998     1.0  20.0  17.326896   0.0 -2.908575\n",
      "4  13963.768385  7.135902  4.646775     1.0  20.0  26.426578   0.0  6.130988\n",
      "5  13963.768385  7.438348  3.909522     1.0  20.0  16.591151   0.0  4.736263\n",
      "6  13963.768385  8.845946  4.824299     1.0  20.0  18.452484   0.0  4.716189\n",
      "7  13963.768385  7.948341  4.633102     1.0  20.0  17.552760   0.0  5.211418\n",
      "8  13963.768385  6.629638  3.289100     1.0  20.0  20.601962   0.0  6.129030\n",
      "9  13963.768385  7.797843  8.221872     1.0  20.0  14.668938   0.0 -2.221469\n",
      "generated  0  events\n",
      "reconstruction done\n",
      "              I      chi2      fval  status  xgen         xr  ygen         yr\n",
      "0  11972.073928  8.999125  7.028496     1.0  20.0   6.909434  20.0  15.716618\n",
      "1  11185.413758  8.574524  6.733044     1.0  20.0   6.572034  20.0  15.246991\n",
      "2   7876.271992  5.530476  4.170687     1.0  20.0   8.277421  20.0  17.752913\n",
      "3   7224.511218  4.776373  3.350386     1.0  20.0   9.801209  20.0  20.412384\n",
      "4   6921.235915  3.930092  2.335977     1.0  20.0  11.451318  20.0  25.768689\n",
      "5   7625.585235  4.994748  3.450542     1.0  20.0  10.036720  20.0  20.889626\n",
      "6   9135.844727  6.625910  5.101321     1.0  20.0   7.583110  20.0  16.689927\n",
      "7   3405.776106  2.274975  1.621027     1.0  20.0   9.532399  20.0  19.900523\n",
      "8  11185.413758  8.574524  6.733044     1.0  20.0   6.572034  20.0  15.246991\n",
      "9   5427.556637  3.784288  2.837147     1.0  20.0   8.441411  20.0  18.014489\n",
      "generated  0  events\n",
      "reconstruction done\n",
      "              I       chi2      fval  status  xgen         xr  ygen         yr\n",
      "0  13963.768385   6.422610  4.864957     1.0  20.0  21.479891  20.0  21.728132\n",
      "1  13963.768385   6.549666  4.325344     1.0  20.0  17.173481  20.0  23.543200\n",
      "2  13963.768385   6.364473  4.688707     1.0  20.0  20.527614  20.0  22.096366\n",
      "3  13963.768385   6.372003  4.471390     1.0  20.0  18.969694  20.0  22.738083\n",
      "4  13963.768385   6.364473  4.688707     1.0  20.0  20.527614  20.0  22.096366\n",
      "5  13963.768385   6.422610  4.864957     1.0  20.0  21.479891  20.0  21.728132\n",
      "6  13963.768385  10.648094  6.829264     1.0  20.0  12.608865  20.0  14.945461\n",
      "7  13963.768385   6.372003  4.471390     1.0  20.0  18.969694  20.0  22.738083\n",
      "8  13963.768385   6.415173  4.405206     1.0  20.0  18.315094  20.0  23.024183\n",
      "9  13963.768385   3.354872  2.546987     1.0  20.0  23.259630  20.0  31.935629\n"
     ]
    },
    {
     "ename": "ValueError",
     "evalue": "setting an array element with a sequence.",
     "output_type": "error",
     "traceback": [
      "\u001b[0;31m---------------------------------------------------------------------------\u001b[0m",
      "\u001b[0;31mTypeError\u001b[0m                                 Traceback (most recent call last)",
      "\u001b[0;31mTypeError\u001b[0m: float() argument must be a string or a number, not 'list'",
      "\nThe above exception was the direct cause of the following exception:\n",
      "\u001b[0;31mValueError\u001b[0m                                Traceback (most recent call last)",
      "\u001b[0;32m<ipython-input-7-fc14ee418c4a>\u001b[0m in \u001b[0;36m<module>\u001b[0;34m\u001b[0m\n\u001b[1;32m     25\u001b[0m         \u001b[0mrec_fixed\u001b[0m\u001b[0;34m.\u001b[0m\u001b[0memulate_events\u001b[0m\u001b[0;34m(\u001b[0m\u001b[0mn_uv\u001b[0m\u001b[0;34m=\u001b[0m\u001b[0mn_uv\u001b[0m\u001b[0;34m,\u001b[0m\u001b[0mn_event\u001b[0m\u001b[0;34m=\u001b[0m\u001b[0mn_event\u001b[0m\u001b[0;34m,\u001b[0m\u001b[0mmethod\u001b[0m\u001b[0;34m=\u001b[0m\u001b[0;34m\"CHI2\"\u001b[0m\u001b[0;34m,\u001b[0m\u001b[0mplot\u001b[0m\u001b[0;34m=\u001b[0m\u001b[0;32mFalse\u001b[0m\u001b[0;34m,\u001b[0m\u001b[0mnbins\u001b[0m\u001b[0;34m=\u001b[0m\u001b[0;36m1000\u001b[0m\u001b[0;34m,\u001b[0m\u001b[0mrange\u001b[0m\u001b[0;34m=\u001b[0m\u001b[0;34m(\u001b[0m\u001b[0;34m(\u001b[0m\u001b[0;34m-\u001b[0m\u001b[0;36m30\u001b[0m\u001b[0;34m,\u001b[0m\u001b[0;36m30\u001b[0m\u001b[0;34m)\u001b[0m\u001b[0;34m,\u001b[0m\u001b[0;34m(\u001b[0m\u001b[0;34m-\u001b[0m\u001b[0;36m30\u001b[0m\u001b[0;34m,\u001b[0m\u001b[0;36m30\u001b[0m\u001b[0;34m)\u001b[0m\u001b[0;34m)\u001b[0m\u001b[0;34m)\u001b[0m\u001b[0;34m\u001b[0m\u001b[0;34m\u001b[0m\u001b[0m\n\u001b[1;32m     26\u001b[0m         \u001b[0mrecs_fixed\u001b[0m\u001b[0;34m.\u001b[0m\u001b[0mappend\u001b[0m\u001b[0;34m(\u001b[0m\u001b[0mrec_fixed\u001b[0m\u001b[0;34m)\u001b[0m\u001b[0;34m\u001b[0m\u001b[0;34m\u001b[0m\u001b[0m\n\u001b[0;32m---> 27\u001b[0;31m     \u001b[0mlist_recs\u001b[0m\u001b[0;34m[\u001b[0m\u001b[0mi\u001b[0m\u001b[0;34m]\u001b[0m\u001b[0;34m=\u001b[0m\u001b[0mrecs\u001b[0m\u001b[0;34m\u001b[0m\u001b[0;34m\u001b[0m\u001b[0m\n\u001b[0m\u001b[1;32m     28\u001b[0m     \u001b[0mlist_recs_fixed\u001b[0m\u001b[0;34m[\u001b[0m\u001b[0mi\u001b[0m\u001b[0;34m]\u001b[0m\u001b[0;34m=\u001b[0m\u001b[0mrecs_fixed\u001b[0m\u001b[0;34m\u001b[0m\u001b[0;34m\u001b[0m\u001b[0m\n\u001b[1;32m     29\u001b[0m     \u001b[0mi\u001b[0m \u001b[0;34m+=\u001b[0m\u001b[0;36m1\u001b[0m\u001b[0;34m\u001b[0m\u001b[0;34m\u001b[0m\u001b[0m\n",
      "\u001b[0;31mValueError\u001b[0m: setting an array element with a sequence."
     ]
    }
   ],
   "source": [
    "#some parameters\n",
    "n_event = 10\n",
    "\n",
    "#for different uv values\n",
    "list_n_uv =[]\n",
    "for i in range(1,5):\n",
    "    list_n_uv.append(10000*i)\n",
    "list_recs = np.zeros(len(list_n_uv))\n",
    "list_recs_fixed = np.zeros(len(list_n_uv))\n",
    "\n",
    "i=0\n",
    "#generate reconstructions\n",
    "for n_uv in list_n_uv:\n",
    "    recs_fixed = []\n",
    "    recs = []\n",
    "    for sim in sims:\n",
    "        #unfixed n_uv rec\n",
    "        rec = Reconstruction(sim=sim)\n",
    "        rec.emulate_events(n_uv=n_uv,n_event=n_event,method=\"CHI2\",plot=False,nbins=1000,range=((-30,30),(-30,30)))\n",
    "        recs.append(rec)\n",
    "        \n",
    "        #fixed n_uv rec\n",
    "        rec_fixed = Reconstruction(sim=sim)\n",
    "        rec_fixed.fix_parameter_CHI2(parameter=\"rate0\", fix_value=n_uv)\n",
    "        rec_fixed.emulate_events(n_uv=n_uv,n_event=n_event,method=\"CHI2\",plot=False,nbins=1000,range=((-30,30),(-30,30)))\n",
    "        recs_fixed.append(rec_fixed)      \n",
    "    list_recs[i]=recs\n",
    "    list_recs_fixed[i]=recs_fixed\n",
    "    i +=1\n",
    "        "
   ]
  },
  {
   "cell_type": "code",
   "execution_count": 9,
   "metadata": {
    "scrolled": false
   },
   "outputs": [
    {
     "ename": "IndexError",
     "evalue": "invalid index to scalar variable.",
     "output_type": "error",
     "traceback": [
      "\u001b[0;31m---------------------------------------------------------------------------\u001b[0m",
      "\u001b[0;31mIndexError\u001b[0m                                Traceback (most recent call last)",
      "\u001b[0;32m<ipython-input-9-7b15195a6f36>\u001b[0m in \u001b[0;36m<module>\u001b[0;34m\u001b[0m\n\u001b[1;32m      1\u001b[0m \u001b[0;31m#Take all recs for meta data\u001b[0m\u001b[0;34m\u001b[0m\u001b[0;34m\u001b[0m\u001b[0;34m\u001b[0m\u001b[0m\n\u001b[0;32m----> 2\u001b[0;31m \u001b[0mana\u001b[0m \u001b[0;34m=\u001b[0m \u001b[0mAnalysis\u001b[0m\u001b[0;34m(\u001b[0m\u001b[0mrecs\u001b[0m\u001b[0;34m=\u001b[0m\u001b[0mlist_recs\u001b[0m\u001b[0;34m[\u001b[0m\u001b[0;36m0\u001b[0m\u001b[0;34m]\u001b[0m\u001b[0;34m,\u001b[0m \u001b[0mxsize\u001b[0m\u001b[0;34m=\u001b[0m\u001b[0mxbins\u001b[0m\u001b[0;34m,\u001b[0m \u001b[0mysize\u001b[0m\u001b[0;34m=\u001b[0m\u001b[0mybins\u001b[0m\u001b[0;34m)\u001b[0m\u001b[0;34m\u001b[0m\u001b[0;34m\u001b[0m\u001b[0m\n\u001b[0m\u001b[1;32m      3\u001b[0m \u001b[0;34m\u001b[0m\u001b[0m\n\u001b[1;32m      4\u001b[0m \u001b[0;31m#put relevant data from recs into np arrays\u001b[0m\u001b[0;34m\u001b[0m\u001b[0;34m\u001b[0m\u001b[0;34m\u001b[0m\u001b[0m\n\u001b[1;32m      5\u001b[0m \u001b[0mana\u001b[0m\u001b[0;34m.\u001b[0m\u001b[0mmerge\u001b[0m\u001b[0;34m(\u001b[0m\u001b[0;34m)\u001b[0m\u001b[0;34m\u001b[0m\u001b[0;34m\u001b[0m\u001b[0m\n",
      "\u001b[0;32m~/SiPM/SiPM.py\u001b[0m in \u001b[0;36m__init__\u001b[0;34m(self, recs, xsize, ysize)\u001b[0m\n\u001b[1;32m    664\u001b[0m     \u001b[0;32mdef\u001b[0m \u001b[0m__init__\u001b[0m\u001b[0;34m(\u001b[0m\u001b[0mself\u001b[0m\u001b[0;34m,\u001b[0m \u001b[0mrecs\u001b[0m\u001b[0;34m,\u001b[0m \u001b[0mxsize\u001b[0m\u001b[0;34m,\u001b[0m \u001b[0mysize\u001b[0m\u001b[0;34m)\u001b[0m\u001b[0;34m:\u001b[0m\u001b[0;34m\u001b[0m\u001b[0;34m\u001b[0m\u001b[0m\n\u001b[1;32m    665\u001b[0m         \u001b[0mself\u001b[0m\u001b[0;34m.\u001b[0m\u001b[0mrecs\u001b[0m \u001b[0;34m=\u001b[0m \u001b[0mrecs\u001b[0m\u001b[0;34m\u001b[0m\u001b[0;34m\u001b[0m\u001b[0m\n\u001b[0;32m--> 666\u001b[0;31m         \u001b[0mself\u001b[0m\u001b[0;34m.\u001b[0m\u001b[0mrec1\u001b[0m \u001b[0;34m=\u001b[0m \u001b[0mrecs\u001b[0m\u001b[0;34m[\u001b[0m\u001b[0;36m0\u001b[0m\u001b[0;34m]\u001b[0m\u001b[0;34m\u001b[0m\u001b[0;34m\u001b[0m\u001b[0m\n\u001b[0m\u001b[1;32m    667\u001b[0m         \u001b[0mself\u001b[0m\u001b[0;34m.\u001b[0m\u001b[0msim1\u001b[0m \u001b[0;34m=\u001b[0m \u001b[0mself\u001b[0m\u001b[0;34m.\u001b[0m\u001b[0mrec1\u001b[0m\u001b[0;34m.\u001b[0m\u001b[0msim\u001b[0m\u001b[0;34m\u001b[0m\u001b[0;34m\u001b[0m\u001b[0m\n\u001b[1;32m    668\u001b[0m         \u001b[0mself\u001b[0m\u001b[0;34m.\u001b[0m\u001b[0mgeo1\u001b[0m \u001b[0;34m=\u001b[0m \u001b[0mself\u001b[0m\u001b[0;34m.\u001b[0m\u001b[0mrec1\u001b[0m\u001b[0;34m.\u001b[0m\u001b[0msim\u001b[0m\u001b[0;34m.\u001b[0m\u001b[0mgeo\u001b[0m\u001b[0;34m\u001b[0m\u001b[0;34m\u001b[0m\u001b[0m\n",
      "\u001b[0;31mIndexError\u001b[0m: invalid index to scalar variable."
     ]
    }
   ],
   "source": [
    "#Take all recs for meta data\n",
    "ana = Analysis(recs=list_recs[0], xsize=xbins, ysize=ybins)\n",
    "\n",
    "#put relevant data from recs into np arrays\n",
    "ana.merge()\n",
    "\n",
    "#plot!\n",
    "    #possible types: \"xdif\", \"ydif\", \"rdif\", \"phidif\", \"xsig\", \"ysig\", \"rsig\", \"phisig\"\n",
    "ana.plot2d(type = \"xdif\", cmap ='Spectral')\n",
    "ana.plot2d(type = \"ydif\", cmap ='Spectral')\n",
    "ana.plot2d(type = \"rdif\", cmap ='Spectral')\n",
    "ana.plot2d(type = \"phidif\", cmap ='Spectral')\n",
    "ana.plot2d(type = \"xsig\", cmap ='Reds')\n",
    "ana.plot2d(type = \"ysig\", cmap ='Reds')\n",
    "ana.plot2d(type = \"rsig\", cmap ='Reds')\n",
    "ana.plot2d(type = \"phisig\", cmap ='Reds')\n"
   ]
  },
  {
   "cell_type": "code",
   "execution_count": null,
   "metadata": {},
   "outputs": [],
   "source": [
    "hits_count = []\n",
    "for rec in recs:\n",
    "    temp = 0\n",
    "    for sipm in rec.sim.geo.sipms:\n",
    "        temp += sipm.get_number_of_hits()\n",
    "    hits_count.append(temp)\n",
    "plt.hist(hits_count)\n",
    "plt.show()"
   ]
  },
  {
   "cell_type": "code",
   "execution_count": null,
   "metadata": {},
   "outputs": [],
   "source": [
    "bins = 10\n",
    "\n",
    "#plot 1d histograms for prevalence of values plotted in above 2d plots\n",
    "ana.plot(type = \"xydif\", bins = bins, range = (-8,8))\n",
    "ana.plot(type = \"xysig\", bins =bins , range = (0,1))\n",
    "ana.plot(type = \"rdif\", bins = bins, range = (-8,8))\n",
    "ana.plot(type = \"rsig\", bins =bins , range = (0,1))\n",
    "ana.plot(type = \"phidif\", bins =bins, range = (-0.06,0.06))\n",
    "ana.plot(type = \"phisig\", bins =bins, range = (0,1.2))\n"
   ]
  },
  {
   "cell_type": "code",
   "execution_count": null,
   "metadata": {},
   "outputs": [],
   "source": [
    "recs[0].plot(type=\"intensity\",range=(0,90000))"
   ]
  },
  {
   "cell_type": "code",
   "execution_count": null,
   "metadata": {},
   "outputs": [],
   "source": []
  },
  {
   "cell_type": "code",
   "execution_count": null,
   "metadata": {},
   "outputs": [],
   "source": [
    "i=0\n",
    "\n",
    "rec = recs[i]\n",
    "print('generated pos = ', rec.sim.get_x0())\n",
    "recs[i].plot(type=\"res\",bins=100,range=(-25,25))"
   ]
  },
  {
   "cell_type": "code",
   "execution_count": null,
   "metadata": {},
   "outputs": [],
   "source": []
  },
  {
   "cell_type": "code",
   "execution_count": null,
   "metadata": {},
   "outputs": [],
   "source": []
  },
  {
   "cell_type": "code",
   "execution_count": null,
   "metadata": {},
   "outputs": [],
   "source": []
  }
 ],
 "metadata": {
  "kernelspec": {
   "display_name": "Python 3",
   "language": "python",
   "name": "python3"
  },
  "language_info": {
   "codemirror_mode": {
    "name": "ipython",
    "version": 3
   },
   "file_extension": ".py",
   "mimetype": "text/x-python",
   "name": "python",
   "nbconvert_exporter": "python",
   "pygments_lexer": "ipython3",
   "version": "3.8.2"
  }
 },
 "nbformat": 4,
 "nbformat_minor": 4
}
