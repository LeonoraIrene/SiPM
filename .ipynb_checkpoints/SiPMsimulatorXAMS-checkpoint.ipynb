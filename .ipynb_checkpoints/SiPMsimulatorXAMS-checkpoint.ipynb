{
 "cells": [
  {
   "cell_type": "markdown",
   "metadata": {},
   "source": [
    "## XAMS SiPM simulation## "
   ]
  },
  {
   "cell_type": "code",
   "execution_count": null,
   "metadata": {},
   "outputs": [],
   "source": [
    "#\n",
    "# import the SiPM classes\n",
    "#\n",
    "from SiPM import *\n",
    "# for plotting\n",
    "import matplotlib\n",
    "import matplotlib.pyplot as plt\n",
    "%matplotlib inline"
   ]
  },
  {
   "cell_type": "markdown",
   "metadata": {},
   "source": [
    "### Define general geometry parameters ###"
   ]
  },
  {
   "cell_type": "code",
   "execution_count": null,
   "metadata": {},
   "outputs": [],
   "source": [
    "# z position of the in-plane SiPMs\n",
    "z_plane = 10\n",
    "# radius of the cyinder for SiPMs at the side\n",
    "r_cylinder = 22\n",
    "# radius of a SiPM - I assume circular SiPMs with a radius to make the area correspond to a 3x3mm2 square.\n",
    "r_sipm = 1.6925\n",
    "# build geometry\n",
    "geo = GeoParameters(z_plane=z_plane, r_cylinder=r_cylinder, r_sipm=r_sipm)"
   ]
  },
  {
   "cell_type": "markdown",
   "metadata": {},
   "source": [
    "### Define the geometry of the silicon PMs ###"
   ]
  },
  {
   "cell_type": "code",
   "execution_count": null,
   "metadata": {},
   "outputs": [],
   "source": [
    "# generate a XAMS geometry with SiPMs in plane above the LXe\n",
    "\n",
    "# center SiPMs\n",
    "sipm = SiPM(type=\"plane\",position=[0,4,z_plane],qeff=0.25)\n",
    "geo.add_sipm(sipm)\n",
    "sipm = SiPM(type=\"plane\",position=[0,-4,z_plane],qeff=0.25)\n",
    "geo.add_sipm(sipm)\n",
    "\n",
    "# ring SiPMs\n",
    "n_circ = 6\n",
    "r = 17.5\n",
    "for phi in np.linspace(0,2*np.pi,n_circ,endpoint=False):\n",
    "    sipm = SiPM(type=\"plane\",position=[r*np.cos(phi),r*np.sin(phi),z_plane],qeff=0.25)\n",
    "    geo.add_sipm(sipm)"
   ]
  },
  {
   "cell_type": "markdown",
   "metadata": {},
   "source": [
    "### Simulate the SiPM acceptance ###\n",
    "\n",
    "* uv_position is the position where the UV photons are generated\n",
    "* n_mc is the number of MC photons"
   ]
  },
  {
   "cell_type": "code",
   "execution_count": null,
   "metadata": {},
   "outputs": [],
   "source": [
    "n_mc = 1000\n",
    "sims = []\n",
    "xbins = 2\n",
    "ybins = 2\n",
    "xmax = 20\n",
    "ymax = 20\n",
    "\n",
    "for x in np.linspace(0,xmax,xbins,endpoint=True):\n",
    "    for y in np.linspace(0,ymax,ybins,endpoint=True):\n",
    "        print(\"simulate @ x= \",x,\" mm\", \"simulate @ y= \",y, \"mm\")\n",
    "        sim = Simulator(geo=geo,uv_position=[x,y,0],n_mc=n_mc)\n",
    "        sim.generate_events()\n",
    "        sims.append(sim)"
   ]
  },
  {
   "cell_type": "markdown",
   "metadata": {},
   "source": [
    "### Emulate events and reconstruct the position ###\n",
    "\n",
    "* n_event = number of events to emulate\n",
    "* n_uv = number of UV photons assumed for the S2 signal"
   ]
  },
  {
   "cell_type": "code",
   "execution_count": 1,
   "metadata": {
    "scrolled": true
   },
   "outputs": [
    {
     "ename": "NameError",
     "evalue": "name 'sims' is not defined",
     "output_type": "error",
     "traceback": [
      "\u001b[0;31m---------------------------------------------------------------------------\u001b[0m",
      "\u001b[0;31mNameError\u001b[0m                                 Traceback (most recent call last)",
      "\u001b[0;32m<ipython-input-1-1b9da53bdec9>\u001b[0m in \u001b[0;36m<module>\u001b[0;34m\u001b[0m\n\u001b[1;32m      1\u001b[0m \u001b[0mrecs\u001b[0m \u001b[0;34m=\u001b[0m \u001b[0;34m[\u001b[0m\u001b[0;34m]\u001b[0m\u001b[0;34m\u001b[0m\u001b[0;34m\u001b[0m\u001b[0m\n\u001b[0;32m----> 2\u001b[0;31m \u001b[0;32mfor\u001b[0m \u001b[0msim\u001b[0m \u001b[0;32min\u001b[0m \u001b[0msims\u001b[0m\u001b[0;34m:\u001b[0m\u001b[0;34m\u001b[0m\u001b[0;34m\u001b[0m\u001b[0m\n\u001b[0m\u001b[1;32m      3\u001b[0m     \u001b[0mrec\u001b[0m \u001b[0;34m=\u001b[0m \u001b[0mReconstruction\u001b[0m\u001b[0;34m(\u001b[0m\u001b[0msim\u001b[0m\u001b[0;34m=\u001b[0m\u001b[0msim\u001b[0m\u001b[0;34m)\u001b[0m\u001b[0;34m\u001b[0m\u001b[0;34m\u001b[0m\u001b[0m\n\u001b[1;32m      4\u001b[0m     \u001b[0mrec\u001b[0m\u001b[0;34m.\u001b[0m\u001b[0memulate_events\u001b[0m\u001b[0;34m(\u001b[0m\u001b[0mn_uv\u001b[0m\u001b[0;34m=\u001b[0m\u001b[0;36m50000\u001b[0m\u001b[0;34m,\u001b[0m\u001b[0mn_event\u001b[0m\u001b[0;34m=\u001b[0m\u001b[0;36m1000\u001b[0m\u001b[0;34m,\u001b[0m\u001b[0mmethod\u001b[0m\u001b[0;34m=\u001b[0m\u001b[0;34m\"CHI2\"\u001b[0m\u001b[0;34m,\u001b[0m\u001b[0mplot\u001b[0m\u001b[0;34m=\u001b[0m\u001b[0;32mFalse\u001b[0m\u001b[0;34m,\u001b[0m\u001b[0mnbins\u001b[0m\u001b[0;34m=\u001b[0m\u001b[0;36m1000\u001b[0m\u001b[0;34m,\u001b[0m\u001b[0mrange\u001b[0m\u001b[0;34m=\u001b[0m\u001b[0;34m(\u001b[0m\u001b[0;34m(\u001b[0m\u001b[0;34m-\u001b[0m\u001b[0;36m30\u001b[0m\u001b[0;34m,\u001b[0m\u001b[0;36m30\u001b[0m\u001b[0;34m)\u001b[0m\u001b[0;34m,\u001b[0m\u001b[0;34m(\u001b[0m\u001b[0;34m-\u001b[0m\u001b[0;36m30\u001b[0m\u001b[0;34m,\u001b[0m\u001b[0;36m30\u001b[0m\u001b[0;34m)\u001b[0m\u001b[0;34m)\u001b[0m\u001b[0;34m)\u001b[0m\u001b[0;34m\u001b[0m\u001b[0;34m\u001b[0m\u001b[0m\n\u001b[1;32m      5\u001b[0m     \u001b[0mrecs\u001b[0m\u001b[0;34m.\u001b[0m\u001b[0mappend\u001b[0m\u001b[0;34m(\u001b[0m\u001b[0mrec\u001b[0m\u001b[0;34m)\u001b[0m\u001b[0;34m\u001b[0m\u001b[0;34m\u001b[0m\u001b[0m\n",
      "\u001b[0;31mNameError\u001b[0m: name 'sims' is not defined"
     ]
    }
   ],
   "source": [
    "recs = []\n",
    "for sim in sims:\n",
    "    rec = Reconstruction(sim=sim)\n",
    "    rec.emulate_events(n_uv=50000,n_event=1000,method=\"CHI2\",plot=False,nbins=1000,range=((-30,30),(-30,30)))\n",
    "    recs.append(rec)"
   ]
  },
  {
   "cell_type": "code",
   "execution_count": null,
   "metadata": {},
   "outputs": [],
   "source": [
    "ana = Analysis(recs=recs, xsize=xbins, ysize=ybins, xmax= xmax, ymax=ymax)\n",
    "\n",
    "ana.merge()\n",
    "ana.plot(type = \"xdif\")\n",
    "ana.plot(type = \"ydif\")\n",
    "ana.plot(type = \"xsig\")\n",
    "ana.plot(type = \"ysig\")"
   ]
  },
  {
   "cell_type": "markdown",
   "metadata": {},
   "source": [
    "# Plots from here ...... #"
   ]
  },
  {
   "cell_type": "code",
   "execution_count": null,
   "metadata": {},
   "outputs": [],
   "source": [
    "sx = []\n",
    "sy = []\n",
    "sr=[]\n",
    "sphi=[]\n",
    "srelx=[]\n",
    "srely=[]\n",
    "srelr=[]\n",
    "srelphi =[]\n",
    "x0 = []\n",
    "y0 = []\n",
    "r0 =[]\n",
    "phi0 =[]\n",
    "dx = []\n",
    "dy = []\n",
    "dr=[]\n",
    "dphi=[]\n",
    "dx_err = []\n",
    "dy_err = []\n",
    "dr_err = []\n",
    "dphi_err = []\n",
    "\n",
    "\n",
    "# loop through all the simulated locations\n",
    "for reco in recs:\n",
    "    df = reco.df_rec[reco.df_rec.status == 1]\n",
    "    #print('xr =',df.xr.mean(),' yr =',df.yr.mean())\n",
    "    dxtemp = df.xr.mean()-reco.sim.get_x0()[0]\n",
    "    dytemp = df.yr.mean()-reco.sim.get_x0()[1]\n",
    "    dx.append(dxtemp)\n",
    "    dy.append(dytemp)\n",
    "    dr.append((df.xr.mean()**2+df.yr.mean()**2)**0.5-(reco.sim.get_x0()[0]**2+reco.sim.get_x0()[1]**2)**0.5)\n",
    "    dphi.append(np.arctan(df.yr.mean()/df.xr.mean())-np.arctan(reco.sim.get_x0()[1]/reco.sim.get_x0()[0]))\n",
    "\n",
    "    sx.append(df.xr.sem())\n",
    "    sy.append(df.yr.sem())\n",
    "    sr.append(((df.xr.sem())**2+(df.yr.sem())**2)**0.5)\n",
    "    sphi.append(np.arctan(df.yr.sem()/df.xr.sem()))\n",
    "    srelx.append(df.xr.sem()/reco.sim.get_x0()[0])\n",
    "    srely.append(df.yr.sem()/reco.sim.get_x0()[1])\n",
    "    srelr.append(((df.xr.sem())**2+(df.yr.sem())**2)**0.5/(dxtemp**2+dytemp**2)**0.5)\n",
    "    srelphi.append(np.arctan(df.yr.sem()/df.xr.sem())/np.arctan(dytemp/dxtemp))\n",
    "    x0temp = reco.sim.get_x0()[0]\n",
    "    y0temp = reco.sim.get_x0()[1]\n",
    "    x0.append(x0temp)\n",
    "    y0.append(y0temp)\n",
    "    r0.append(((reco.sim.get_x0()[0])**2+(reco.sim.get_x0()[1])**2)**0.5)\n",
    "    if x0temp != 0 and y0temp != 0:\n",
    "        phi0.append(np.arctan(y0temp/x0temp))\n",
    "    else:\n",
    "        phi0.append(np.nan)\n",
    "        \n",
    "print(sr)\n",
    "print(r0)\n",
    "\n",
    "# reconstruction resolution\n",
    "dx_err = np.array(sx)/np.sqrt(50000)\n",
    "dy_err = np.array(sy)/np.sqrt(50000)\n",
    "dr_err = np.array(sr)/np.sqrt(50000)\n",
    "dphi_err = np.array(sphi)/np.sqrt(50000)\n",
    "\n",
    "\"\"\"\n",
    "plt.plot(x0,sx,'bo')\n",
    "plt.plot(x0,sy,'rx')\n",
    "plt.xlabel('Generated position (mm)',fontsize=18)\n",
    "plt.ylabel('$\\sigma$ (mm)',fontsize=18)\n",
    "plt.legend(['x','y'])\n",
    "plt.show()\n",
    "\n",
    "plt.plot(r0,sr, 'g+')\n",
    "plt.xlabel('Generated position (mm)',fontsize=18)\n",
    "plt.ylabel('$\\sigma$ (mm)',fontsize=18)\n",
    "plt.legend(['r'])\n",
    "plt.show()\n",
    "\n",
    "plt.plot(phi0,sphi, 'y.')\n",
    "plt.xlabel('Generated position (mm)',fontsize=18)\n",
    "plt.ylabel('$\\sigma$ (mm)',fontsize=18)\n",
    "plt.legend(['phi'])\n",
    "plt.show()\n",
    "\n",
    "#relative error\n",
    "plt.plot(x0,srelx,'bo')\n",
    "plt.plot(x0,srely,'rx')\n",
    "plt.xlabel('Generated position (mm)',fontsize=18)\n",
    "plt.ylabel('Relative $\\sigma$ (mm)',fontsize=18)\n",
    "plt.legend(['x','y'])\n",
    "plt.show()\n",
    "\n",
    "plt.plot(r0,srelr, 'g+')\n",
    "plt.xlabel('Generated position (mm)',fontsize=18)\n",
    "plt.ylabel('Relative $\\sigma$ (mm)',fontsize=18)\n",
    "plt.legend(['r'])\n",
    "plt.show()\n",
    "\n",
    "plt.plot(phi0,srelphi, 'y.')\n",
    "plt.xlabel('Generated position (mm)',fontsize=18)\n",
    "plt.ylabel('Relative $\\sigma$ (mm)',fontsize=18)\n",
    "plt.legend(['phi'])\n",
    "plt.show()\n",
    "\"\"\"\n",
    "# reconstruction bias\n",
    "plt.errorbar(x0,dx,fmt='bo',yerr=dx_err)\n",
    "plt.errorbar(y0,dy,fmt='rx',yerr=dy_err)\n",
    "plt.xlabel('Generated position x0,y0 (mm)',fontsize=18)\n",
    "plt.ylabel('<gen-rec> (mm)',fontsize=18)\n",
    "plt.legend(['x','y'])\n",
    "plt.show()\n",
    "\n",
    "plt.errorbar(r0,dr,fmt='g+',yerr=dr_err)\n",
    "plt.xlabel('Generated position r0(mm)',fontsize=18)\n",
    "plt.ylabel('<gen-rec> (mm)',fontsize=18)\n",
    "plt.legend(['r'])\n",
    "plt.show()\n",
    "\n",
    "plt.errorbar(phi0,dphi,fmt='y.',yerr=dphi_err)\n",
    "plt.xlabel('Generated position phi0(mm)',fontsize=18)\n",
    "plt.ylabel('<gen-rec> (mm)',fontsize=18)\n",
    "plt.legend(['phi'])\n",
    "plt.show()"
   ]
  },
  {
   "cell_type": "code",
   "execution_count": null,
   "metadata": {},
   "outputs": [],
   "source": []
  },
  {
   "cell_type": "code",
   "execution_count": null,
   "metadata": {},
   "outputs": [],
   "source": [
    "i=0\n",
    "\n",
    "rec = recs[i]\n",
    "print(rec.sim.get_x0())\n",
    "recs[i].plot(type=\"res\",bins=100,range=(-25,25))"
   ]
  },
  {
   "cell_type": "code",
   "execution_count": null,
   "metadata": {},
   "outputs": [],
   "source": [
    "i=10\n",
    "rec = recs[i]\n",
    "print(rec.sim.get_x0())\n",
    "ax = recs[i].plot(type=\"xy\",range=((-25,25),(-25,25)))"
   ]
  },
  {
   "cell_type": "code",
   "execution_count": null,
   "metadata": {},
   "outputs": [],
   "source": [
    "recs[i].plot(type=\"intensity\",range=(0,90000))"
   ]
  },
  {
   "cell_type": "code",
   "execution_count": null,
   "metadata": {},
   "outputs": [],
   "source": [
    "recs[i].plot(type=\"fit_quality\",bins=60)"
   ]
  },
  {
   "cell_type": "code",
   "execution_count": null,
   "metadata": {},
   "outputs": [],
   "source": [
    "df = df.replace([np.inf, -np.inf], np.nan).dropna()"
   ]
  },
  {
   "cell_type": "code",
   "execution_count": null,
   "metadata": {},
   "outputs": [],
   "source": [
    "import scipy.stats as stats\n",
    "# Plot the theoretical density of f\n",
    "x = np.arange(0, 50, .05)\n",
    "plt.plot(x, 350*stats.chi2.pdf(x, df=5), color='r', lw=2)\n",
    "#h=plt.hist(df['chi2'],bins=50)\n",
    "rec.plot(type=\"fit_quality\",bins=60)\n",
    "plt.xlim([0,30])"
   ]
  },
  {
   "cell_type": "code",
   "execution_count": null,
   "metadata": {},
   "outputs": [],
   "source": []
  },
  {
   "cell_type": "code",
   "execution_count": null,
   "metadata": {},
   "outputs": [],
   "source": []
  },
  {
   "cell_type": "code",
   "execution_count": null,
   "metadata": {},
   "outputs": [],
   "source": []
  }
 ],
 "metadata": {
  "kernelspec": {
   "display_name": "Python 3",
   "language": "python",
   "name": "python3"
  },
  "language_info": {
   "codemirror_mode": {
    "name": "ipython",
    "version": 3
   },
   "file_extension": ".py",
   "mimetype": "text/x-python",
   "name": "python",
   "nbconvert_exporter": "python",
   "pygments_lexer": "ipython3",
   "version": "3.8.2"
  }
 },
 "nbformat": 4,
 "nbformat_minor": 2
}
