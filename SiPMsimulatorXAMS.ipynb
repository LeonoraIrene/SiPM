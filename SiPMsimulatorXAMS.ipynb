{
 "cells": [
  {
   "cell_type": "markdown",
   "metadata": {},
   "source": [
    "## XAMS SiPM simulation## "
   ]
  },
  {
   "cell_type": "code",
   "execution_count": 1,
   "metadata": {},
   "outputs": [],
   "source": [
    "#\n",
    "# import the SiPM classes\n",
    "#\n",
    "from SiPM import *\n",
    "# for plotting\n",
    "import matplotlib\n",
    "import matplotlib.pyplot as plt\n",
    "%matplotlib inline"
   ]
  },
  {
   "cell_type": "markdown",
   "metadata": {},
   "source": [
    "### Define general geometry parameters ###"
   ]
  },
  {
   "cell_type": "code",
   "execution_count": 2,
   "metadata": {},
   "outputs": [],
   "source": [
    "# z position of the in-plane SiPMs\n",
    "z_plane = 10\n",
    "# radius of the cyinder for SiPMs at the side\n",
    "r_cylinder = 22\n",
    "# radius of a SiPM - I assume circular SiPMs with a radius to make the area correspond to a 3x3mm2 square.\n",
    "r_sipm = 1.6925\n",
    "# build geometry\n",
    "geo = GeoParameters(z_plane=z_plane, r_cylinder=r_cylinder, r_sipm=r_sipm)"
   ]
  },
  {
   "cell_type": "markdown",
   "metadata": {},
   "source": [
    "### Define the geometry of the silicon PMs ###"
   ]
  },
  {
   "cell_type": "code",
   "execution_count": 3,
   "metadata": {},
   "outputs": [],
   "source": [
    "# generate a XAMS geometry with SiPMs in plane above the LXe\n",
    "\n",
    "# center SiPMs\n",
    "sipm = SiPM(type=\"plane\",position=[0,4,z_plane],qeff=0.25)\n",
    "geo.add_sipm(sipm)\n",
    "sipm = SiPM(type=\"plane\",position=[0,-4,z_plane],qeff=0.25)\n",
    "geo.add_sipm(sipm)\n",
    "\n",
    "# ring SiPMs\n",
    "n_circ = 6\n",
    "r = 17.5\n",
    "for phi in np.linspace(0,2*np.pi,n_circ,endpoint=False):\n",
    "    sipm = SiPM(type=\"plane\",position=[r*np.cos(phi),r*np.sin(phi),z_plane],qeff=0.25)\n",
    "    geo.add_sipm(sipm)"
   ]
  },
  {
   "cell_type": "markdown",
   "metadata": {},
   "source": [
    "### Simulate the SiPM acceptance ###\n",
    "\n",
    "* uv_position is the position where the UV photons are generated\n",
    "* n_mc is the number of MC photons"
   ]
  },
  {
   "cell_type": "code",
   "execution_count": 4,
   "metadata": {},
   "outputs": [
    {
     "name": "stdout",
     "output_type": "stream",
     "text": [
      "simulate @ x=  0.0  mm\n",
      "generated  0  events\n",
      "Number of SiPMs =  8  Generated hits from x= [0. 0. 0.]\n",
      " 0  (x,y,z) = ( 0.0,  4.0, 10.0) p(hit) = 0.00143  qe = 0.250\n",
      " 1  (x,y,z) = ( 0.0, -4.0, 10.0) p(hit) = 0.00140  qe = 0.250\n",
      " 2  (x,y,z) = (17.5,  0.0, 10.0) p(hit) = 0.00021  qe = 0.250\n",
      " 3  (x,y,z) = ( 8.8, 15.2, 10.0) p(hit) = 0.00020  qe = 0.250\n",
      " 4  (x,y,z) = (-8.7, 15.2, 10.0) p(hit) = 0.00024  qe = 0.250\n",
      " 5  (x,y,z) = (-17.5,  0.0, 10.0) p(hit) = 0.00020  qe = 0.250\n",
      " 6  (x,y,z) = (-8.8, -15.2, 10.0) p(hit) = 0.00020  qe = 0.250\n",
      " 7  (x,y,z) = ( 8.7, -15.2, 10.0) p(hit) = 0.00018  qe = 0.250\n",
      "event generation done\n",
      "simulate @ x=  2.0  mm\n",
      "generated  0  events\n",
      "Number of SiPMs =  8  Generated hits from x= [2. 0. 0.]\n",
      " 0  (x,y,z) = ( 0.0,  4.0, 10.0) p(hit) = 0.00137  qe = 0.250\n",
      " 1  (x,y,z) = ( 0.0, -4.0, 10.0) p(hit) = 0.00132  qe = 0.250\n",
      " 2  (x,y,z) = (17.5,  0.0, 10.0) p(hit) = 0.00033  qe = 0.250\n",
      " 3  (x,y,z) = ( 8.8, 15.2, 10.0) p(hit) = 0.00021  qe = 0.250\n",
      " 4  (x,y,z) = (-8.7, 15.2, 10.0) p(hit) = 0.00022  qe = 0.250\n",
      " 5  (x,y,z) = (-17.5,  0.0, 10.0) p(hit) = 0.00016  qe = 0.250\n",
      " 6  (x,y,z) = (-8.8, -15.2, 10.0) p(hit) = 0.00017  qe = 0.250\n",
      " 7  (x,y,z) = ( 8.7, -15.2, 10.0) p(hit) = 0.00026  qe = 0.250\n",
      "event generation done\n",
      "simulate @ x=  4.0  mm\n",
      "generated  0  events\n",
      "Number of SiPMs =  8  Generated hits from x= [4. 0. 0.]\n",
      " 0  (x,y,z) = ( 0.0,  4.0, 10.0) p(hit) = 0.00126  qe = 0.250\n",
      " 1  (x,y,z) = ( 0.0, -4.0, 10.0) p(hit) = 0.00113  qe = 0.250\n",
      " 2  (x,y,z) = (17.5,  0.0, 10.0) p(hit) = 0.00040  qe = 0.250\n",
      " 3  (x,y,z) = ( 8.8, 15.2, 10.0) p(hit) = 0.00030  qe = 0.250\n",
      " 4  (x,y,z) = (-8.7, 15.2, 10.0) p(hit) = 0.00018  qe = 0.250\n",
      " 5  (x,y,z) = (-17.5,  0.0, 10.0) p(hit) = 0.00013  qe = 0.250\n",
      " 6  (x,y,z) = (-8.8, -15.2, 10.0) p(hit) = 0.00018  qe = 0.250\n",
      " 7  (x,y,z) = ( 8.7, -15.2, 10.0) p(hit) = 0.00026  qe = 0.250\n",
      "event generation done\n",
      "simulate @ x=  6.0  mm\n",
      "generated  0  events\n",
      "Number of SiPMs =  8  Generated hits from x= [6. 0. 0.]\n",
      " 0  (x,y,z) = ( 0.0,  4.0, 10.0) p(hit) = 0.00100  qe = 0.250\n",
      " 1  (x,y,z) = ( 0.0, -4.0, 10.0) p(hit) = 0.00098  qe = 0.250\n",
      " 2  (x,y,z) = (17.5,  0.0, 10.0) p(hit) = 0.00047  qe = 0.250\n",
      " 3  (x,y,z) = ( 8.8, 15.2, 10.0) p(hit) = 0.00031  qe = 0.250\n",
      " 4  (x,y,z) = (-8.7, 15.2, 10.0) p(hit) = 0.00014  qe = 0.250\n",
      " 5  (x,y,z) = (-17.5,  0.0, 10.0) p(hit) = 0.00013  qe = 0.250\n",
      " 6  (x,y,z) = (-8.8, -15.2, 10.0) p(hit) = 0.00011  qe = 0.250\n",
      " 7  (x,y,z) = ( 8.7, -15.2, 10.0) p(hit) = 0.00032  qe = 0.250\n",
      "event generation done\n",
      "simulate @ x=  8.0  mm\n",
      "generated  0  events\n",
      "Number of SiPMs =  8  Generated hits from x= [8. 0. 0.]\n",
      " 0  (x,y,z) = ( 0.0,  4.0, 10.0) p(hit) = 0.00069  qe = 0.250\n",
      " 1  (x,y,z) = ( 0.0, -4.0, 10.0) p(hit) = 0.00079  qe = 0.250\n",
      " 2  (x,y,z) = (17.5,  0.0, 10.0) p(hit) = 0.00072  qe = 0.250\n",
      " 3  (x,y,z) = ( 8.8, 15.2, 10.0) p(hit) = 0.00032  qe = 0.250\n",
      " 4  (x,y,z) = (-8.7, 15.2, 10.0) p(hit) = 0.00012  qe = 0.250\n",
      " 5  (x,y,z) = (-17.5,  0.0, 10.0) p(hit) = 0.00009  qe = 0.250\n",
      " 6  (x,y,z) = (-8.8, -15.2, 10.0) p(hit) = 0.00010  qe = 0.250\n",
      " 7  (x,y,z) = ( 8.7, -15.2, 10.0) p(hit) = 0.00024  qe = 0.250\n",
      "event generation done\n",
      "simulate @ x=  10.0  mm\n",
      "generated  0  events\n",
      "Number of SiPMs =  8  Generated hits from x= [10.  0.  0.]\n",
      " 0  (x,y,z) = ( 0.0,  4.0, 10.0) p(hit) = 0.00057  qe = 0.250\n",
      " 1  (x,y,z) = ( 0.0, -4.0, 10.0) p(hit) = 0.00058  qe = 0.250\n",
      " 2  (x,y,z) = (17.5,  0.0, 10.0) p(hit) = 0.00086  qe = 0.250\n",
      " 3  (x,y,z) = ( 8.8, 15.2, 10.0) p(hit) = 0.00026  qe = 0.250\n",
      " 4  (x,y,z) = (-8.7, 15.2, 10.0) p(hit) = 0.00013  qe = 0.250\n",
      " 5  (x,y,z) = (-17.5,  0.0, 10.0) p(hit) = 0.00008  qe = 0.250\n",
      " 6  (x,y,z) = (-8.8, -15.2, 10.0) p(hit) = 0.00012  qe = 0.250\n",
      " 7  (x,y,z) = ( 8.7, -15.2, 10.0) p(hit) = 0.00027  qe = 0.250\n",
      "event generation done\n",
      "simulate @ x=  12.0  mm\n",
      "generated  0  events\n",
      "Number of SiPMs =  8  Generated hits from x= [12.  0.  0.]\n",
      " 0  (x,y,z) = ( 0.0,  4.0, 10.0) p(hit) = 0.00046  qe = 0.250\n",
      " 1  (x,y,z) = ( 0.0, -4.0, 10.0) p(hit) = 0.00040  qe = 0.250\n",
      " 2  (x,y,z) = (17.5,  0.0, 10.0) p(hit) = 0.00121  qe = 0.250\n",
      " 3  (x,y,z) = ( 8.8, 15.2, 10.0) p(hit) = 0.00028  qe = 0.250\n",
      " 4  (x,y,z) = (-8.7, 15.2, 10.0) p(hit) = 0.00009  qe = 0.250\n",
      " 5  (x,y,z) = (-17.5,  0.0, 10.0) p(hit) = 0.00007  qe = 0.250\n",
      " 6  (x,y,z) = (-8.8, -15.2, 10.0) p(hit) = 0.00007  qe = 0.250\n",
      " 7  (x,y,z) = ( 8.7, -15.2, 10.0) p(hit) = 0.00027  qe = 0.250\n",
      "event generation done\n",
      "simulate @ x=  14.0  mm\n",
      "generated  0  events\n",
      "Number of SiPMs =  8  Generated hits from x= [14.  0.  0.]\n",
      " 0  (x,y,z) = ( 0.0,  4.0, 10.0) p(hit) = 0.00033  qe = 0.250\n",
      " 1  (x,y,z) = ( 0.0, -4.0, 10.0) p(hit) = 0.00027  qe = 0.250\n",
      " 2  (x,y,z) = (17.5,  0.0, 10.0) p(hit) = 0.00150  qe = 0.250\n",
      " 3  (x,y,z) = ( 8.8, 15.2, 10.0) p(hit) = 0.00024  qe = 0.250\n",
      " 4  (x,y,z) = (-8.7, 15.2, 10.0) p(hit) = 0.00008  qe = 0.250\n",
      " 5  (x,y,z) = (-17.5,  0.0, 10.0) p(hit) = 0.00005  qe = 0.250\n",
      " 6  (x,y,z) = (-8.8, -15.2, 10.0) p(hit) = 0.00007  qe = 0.250\n",
      " 7  (x,y,z) = ( 8.7, -15.2, 10.0) p(hit) = 0.00024  qe = 0.250\n",
      "event generation done\n",
      "simulate @ x=  16.0  mm\n",
      "generated  0  events\n",
      "Number of SiPMs =  8  Generated hits from x= [16.  0.  0.]\n",
      " 0  (x,y,z) = ( 0.0,  4.0, 10.0) p(hit) = 0.00026  qe = 0.250\n",
      " 1  (x,y,z) = ( 0.0, -4.0, 10.0) p(hit) = 0.00026  qe = 0.250\n",
      " 2  (x,y,z) = (17.5,  0.0, 10.0) p(hit) = 0.00177  qe = 0.250\n",
      " 3  (x,y,z) = ( 8.8, 15.2, 10.0) p(hit) = 0.00023  qe = 0.250\n",
      " 4  (x,y,z) = (-8.7, 15.2, 10.0) p(hit) = 0.00005  qe = 0.250\n",
      " 5  (x,y,z) = (-17.5,  0.0, 10.0) p(hit) = 0.00006  qe = 0.250\n",
      " 6  (x,y,z) = (-8.8, -15.2, 10.0) p(hit) = 0.00007  qe = 0.250\n",
      " 7  (x,y,z) = ( 8.7, -15.2, 10.0) p(hit) = 0.00024  qe = 0.250\n",
      "event generation done\n",
      "simulate @ x=  18.0  mm\n",
      "generated  0  events\n",
      "Number of SiPMs =  8  Generated hits from x= [18.  0.  0.]\n",
      " 0  (x,y,z) = ( 0.0,  4.0, 10.0) p(hit) = 0.00020  qe = 0.250\n",
      " 1  (x,y,z) = ( 0.0, -4.0, 10.0) p(hit) = 0.00022  qe = 0.250\n",
      " 2  (x,y,z) = (17.5,  0.0, 10.0) p(hit) = 0.00183  qe = 0.250\n",
      " 3  (x,y,z) = ( 8.8, 15.2, 10.0) p(hit) = 0.00019  qe = 0.250\n",
      " 4  (x,y,z) = (-8.7, 15.2, 10.0) p(hit) = 0.00006  qe = 0.250\n",
      " 5  (x,y,z) = (-17.5,  0.0, 10.0) p(hit) = 0.00004  qe = 0.250\n",
      " 6  (x,y,z) = (-8.8, -15.2, 10.0) p(hit) = 0.00005  qe = 0.250\n",
      " 7  (x,y,z) = ( 8.7, -15.2, 10.0) p(hit) = 0.00021  qe = 0.250\n",
      "event generation done\n",
      "simulate @ x=  20.0  mm\n",
      "generated  0  events\n",
      "Number of SiPMs =  8  Generated hits from x= [20.  0.  0.]\n",
      " 0  (x,y,z) = ( 0.0,  4.0, 10.0) p(hit) = 0.00015  qe = 0.250\n",
      " 1  (x,y,z) = ( 0.0, -4.0, 10.0) p(hit) = 0.00015  qe = 0.250\n",
      " 2  (x,y,z) = (17.5,  0.0, 10.0) p(hit) = 0.00161  qe = 0.250\n",
      " 3  (x,y,z) = ( 8.8, 15.2, 10.0) p(hit) = 0.00018  qe = 0.250\n",
      " 4  (x,y,z) = (-8.7, 15.2, 10.0) p(hit) = 0.00003  qe = 0.250\n",
      " 5  (x,y,z) = (-17.5,  0.0, 10.0) p(hit) = 0.00003  qe = 0.250\n",
      " 6  (x,y,z) = (-8.8, -15.2, 10.0) p(hit) = 0.00005  qe = 0.250\n",
      " 7  (x,y,z) = ( 8.7, -15.2, 10.0) p(hit) = 0.00015  qe = 0.250\n",
      "event generation done\n"
     ]
    }
   ],
   "source": [
    "n_mc = 100000\n",
    "sims = []\n",
    "\n",
    "for x in np.linspace(0,20,11,endpoint=True):\n",
    "    print(\"simulate @ x= \",x,\" mm\")\n",
    "    sim = Simulator(geo=geo,uv_position=[x,0,0],n_mc=n_mc)\n",
    "    sim.generate_events()\n",
    "    sims.append(sim)"
   ]
  },
  {
   "cell_type": "markdown",
   "metadata": {},
   "source": [
    "### Emulate events and reconstruct the position ###\n",
    "\n",
    "* n_event = number of events to emulate\n",
    "* n_uv = number of UV photons assumed for the S2 signal"
   ]
  },
  {
   "cell_type": "code",
   "execution_count": 5,
   "metadata": {
    "scrolled": true
   },
   "outputs": [
    {
     "name": "stdout",
     "output_type": "stream",
     "text": [
      "generated  0  events\n",
      "generated  100  events\n",
      "generated  200  events\n",
      "generated  300  events\n",
      "generated  400  events\n",
      "generated  500  events\n",
      "generated  600  events\n",
      "generated  700  events\n",
      "generated  800  events\n",
      "generated  900  events\n",
      "reconstruction done\n",
      "generated  0  events\n",
      "generated  100  events\n",
      "generated  200  events\n",
      "generated  300  events\n",
      "generated  400  events\n",
      "generated  500  events\n",
      "generated  600  events\n",
      "generated  700  events\n",
      "generated  800  events\n",
      "generated  900  events\n",
      "reconstruction done\n",
      "generated  0  events\n",
      "generated  100  events\n",
      "generated  200  events\n",
      "generated  300  events\n",
      "generated  400  events\n",
      "generated  500  events\n",
      "generated  600  events\n",
      "generated  700  events\n",
      "generated  800  events\n",
      "generated  900  events\n",
      "reconstruction done\n",
      "generated  0  events\n",
      "generated  100  events\n",
      "generated  200  events\n",
      "generated  300  events\n",
      "generated  400  events\n",
      "generated  500  events\n",
      "generated  600  events\n",
      "generated  700  events\n",
      "generated  800  events\n",
      "generated  900  events\n",
      "reconstruction done\n",
      "generated  0  events\n",
      "generated  100  events\n",
      "generated  200  events\n",
      "generated  300  events\n",
      "generated  400  events\n",
      "generated  500  events\n",
      "generated  600  events\n",
      "generated  700  events\n",
      "generated  800  events\n",
      "generated  900  events\n",
      "reconstruction done\n",
      "generated  0  events\n",
      "generated  100  events\n",
      "generated  200  events\n",
      "generated  300  events\n",
      "generated  400  events\n",
      "generated  500  events\n",
      "generated  600  events\n",
      "generated  700  events\n",
      "generated  800  events\n",
      "generated  900  events\n",
      "reconstruction done\n",
      "generated  0  events\n",
      "generated  100  events\n",
      "generated  200  events\n",
      "generated  300  events\n",
      "generated  400  events\n",
      "generated  500  events\n",
      "generated  600  events\n",
      "generated  700  events\n",
      "generated  800  events\n",
      "generated  900  events\n",
      "reconstruction done\n",
      "generated  0  events\n",
      "generated  100  events\n",
      "generated  200  events\n",
      "generated  300  events\n",
      "generated  400  events\n",
      "generated  500  events\n",
      "generated  600  events\n",
      "generated  700  events\n",
      "generated  800  events\n",
      "generated  900  events\n",
      "reconstruction done\n",
      "generated  0  events\n",
      "generated  100  events\n",
      "generated  200  events\n",
      "generated  300  events\n",
      "generated  400  events\n",
      "generated  500  events\n",
      "generated  600  events\n",
      "generated  700  events\n",
      "generated  800  events\n",
      "generated  900  events\n",
      "reconstruction done\n",
      "generated  0  events\n",
      "generated  100  events\n",
      "generated  200  events\n",
      "generated  300  events\n",
      "generated  400  events\n",
      "generated  500  events\n",
      "generated  600  events\n",
      "generated  700  events\n",
      "generated  800  events\n",
      "generated  900  events\n",
      "reconstruction done\n",
      "generated  0  events\n",
      "generated  100  events\n",
      "generated  200  events\n",
      "generated  300  events\n",
      "generated  400  events\n",
      "generated  500  events\n",
      "generated  600  events\n",
      "generated  700  events\n",
      "generated  800  events\n",
      "generated  900  events\n",
      "reconstruction done\n"
     ]
    }
   ],
   "source": [
    "recs = []\n",
    "for sim in sims:\n",
    "    rec = Reconstruction(sim=sim)\n",
    "    rec.emulate_events(n_uv=50000,n_event=1000,method=\"CHI2\",plot=False,nbins=100,range=((-30,30),(-30,30)))\n",
    "    recs.append(rec)"
   ]
  },
  {
   "cell_type": "markdown",
   "metadata": {},
   "source": [
    "# Plots from here ...... #"
   ]
  },
  {
   "cell_type": "code",
   "execution_count": 6,
   "metadata": {},
   "outputs": [
    {
     "data": {
      "image/png": "[encoded data removed]",
      "text/plain": [
       "<Figure size 432x288 with 1 Axes>"
      ]
     },
     "metadata": {
      "needs_background": "light"
     },
     "output_type": "display_data"
    },
    {
     "data": {
      "image/png": "[encoded data removed]",
      "text/plain": [
       "<Figure size 432x288 with 1 Axes>"
      ]
     },
     "metadata": {
      "needs_background": "light"
     },
     "output_type": "display_data"
    }
   ],
   "source": [
    "sx = []\n",
    "sy = []\n",
    "x0 = []\n",
    "y0 = []\n",
    "dx = []\n",
    "dy = []\n",
    "dx_err = []\n",
    "dy_err = []\n",
    "\n",
    "\n",
    "# loop through all the simulated locations\n",
    "for reco in recs:\n",
    "    df = reco.df_rec[reco.df_rec.status == 1]\n",
    "    #print('xr =',df.xr.mean(),' yr =',df.yr.mean())\n",
    "    dx.append(df.xr.mean()-reco.sim.get_x0()[0])\n",
    "    dy.append(df.yr.mean()-reco.sim.get_x0()[1])\n",
    "\n",
    "    sx.append(df.xr.sem())\n",
    "    sy.append(df.yr.sem())\n",
    "    x0.append(reco.sim.get_x0()[0])\n",
    "    y0.append(reco.sim.get_x0()[1])\n",
    "\n",
    "# reconstruction resolution\n",
    "dx_err = np.array(sx)/np.sqrt(50000)\n",
    "dy_err = np.array(sy)/np.sqrt(50000)\n",
    "\n",
    "\n",
    "\n",
    "plt.plot(x0,sx,'bo')\n",
    "plt.plot(x0,sy,'rx')\n",
    "plt.ylim([0.0,+0.2])\n",
    "plt.xlabel('Generated position (mm)',fontsize=18)\n",
    "plt.ylabel('$\\sigma$ (mm)',fontsize=18)\n",
    "plt.legend(['x','y'])\n",
    "plt.show()\n",
    "\n",
    "# reconstruction bias\n",
    "plt.errorbar(x0,dx,fmt='bo',yerr=dx_err)\n",
    "plt.errorbar(x0,dy,fmt='rx',yerr=dy_err)\n",
    "plt.ylim([-1.0,+1.0])\n",
    "plt.xlabel('Generated position (mm)',fontsize=18)\n",
    "plt.ylabel('<gen-rec> (mm)',fontsize=18)\n",
    "plt.legend(['x','y'])\n",
    "plt.show()\n"
   ]
  },
  {
   "cell_type": "code",
   "execution_count": 13,
   "metadata": {},
   "outputs": [
    {
     "name": "stdout",
     "output_type": "stream",
     "text": [
      "[4. 0. 0.]\n",
      "<xr> =  19.82633844887775  +/- 0.07810038928476092  mm\n",
      "    rms_x =  2.469751162856533  mm\n",
      "<yr> =  0.24589769268590744  +/- 0.04624052175794359  mm\n",
      "    rms_y =  1.4622536894967488  mm\n"
     ]
    },
    {
     "data": {
      "text/plain": [
       "<matplotlib.axes._subplots.AxesSubplot at 0x1b913dc8a20>"
      ]
     },
     "execution_count": 13,
     "metadata": {},
     "output_type": "execute_result"
    },
    {
     "data": {
      "image/png": "[encoded data removed]",
      "text/plain": [
       "<Figure size 504x360 with 1 Axes>"
      ]
     },
     "metadata": {
      "needs_background": "light"
     },
     "output_type": "display_data"
    }
   ],
   "source": [
    "rec = recs[2]\n",
    "\n",
    "i=10\n",
    "print(rec.sim.get_x0())\n",
    "recs[i].plot(type=\"res\",bins=100,range=(-25,25))"
   ]
  },
  {
   "cell_type": "code",
   "execution_count": 8,
   "metadata": {},
   "outputs": [
    {
     "data": {
      "image/png": "[encoded data removed]",
      "text/plain": [
       "<Figure size 576x576 with 1 Axes>"
      ]
     },
     "metadata": {
      "needs_background": "light"
     },
     "output_type": "display_data"
    }
   ],
   "source": [
    "i=10\n",
    "ax = recs[i].plot(type=\"xy\",range=((-25,25),(-25,25)))"
   ]
  },
  {
   "cell_type": "code",
   "execution_count": 9,
   "metadata": {},
   "outputs": [
    {
     "name": "stdout",
     "output_type": "stream",
     "text": [
      " N(UV) reco =  53272.35465517358  +/- 423.2346855815975\n"
     ]
    },
    {
     "data": {
      "text/plain": [
       "<matplotlib.axes._subplots.AxesSubplot at 0x1b9125cf780>"
      ]
     },
     "execution_count": 9,
     "metadata": {},
     "output_type": "execute_result"
    },
    {
     "data": {
      "image/png": "[encoded data removed]",
      "text/plain": [
       "<Figure size 432x288 with 1 Axes>"
      ]
     },
     "metadata": {
      "needs_background": "light"
     },
     "output_type": "display_data"
    }
   ],
   "source": [
    "recs[i].plot(type=\"intensity\",range=(0,50000))"
   ]
  },
  {
   "cell_type": "code",
   "execution_count": 10,
   "metadata": {},
   "outputs": [
    {
     "data": {
      "text/plain": [
       "<matplotlib.axes._subplots.AxesSubplot at 0x1b9121a59e8>"
      ]
     },
     "execution_count": 10,
     "metadata": {},
     "output_type": "execute_result"
    },
    {
     "data": {
      "image/png": "[encoded data removed]",
      "text/plain": [
       "<Figure size 432x288 with 1 Axes>"
      ]
     },
     "metadata": {
      "needs_background": "light"
     },
     "output_type": "display_data"
    }
   ],
   "source": [
    "recs[i].plot(type=\"fit_quality\",bins=60)"
   ]
  },
  {
   "cell_type": "code",
   "execution_count": 11,
   "metadata": {},
   "outputs": [],
   "source": [
    "df = df.replace([np.inf, -np.inf], np.nan).dropna()"
   ]
  },
  {
   "cell_type": "code",
   "execution_count": 12,
   "metadata": {},
   "outputs": [
    {
     "data": {
      "text/plain": [
       "(0, 30)"
      ]
     },
     "execution_count": 12,
     "metadata": {},
     "output_type": "execute_result"
    },
    {
     "data": {
      "image/png": "[encoded data removed]",
      "text/plain": [
       "<Figure size 432x288 with 1 Axes>"
      ]
     },
     "metadata": {
      "needs_background": "light"
     },
     "output_type": "display_data"
    }
   ],
   "source": [
    "import scipy.stats as stats\n",
    "# Plot the theoretical density of f\n",
    "x = np.arange(0, 50, .05)\n",
    "plt.plot(x, 350*stats.chi2.pdf(x, df=5), color='r', lw=2)\n",
    "#h=plt.hist(df['chi2'],bins=50)\n",
    "rec.plot(type=\"fit_quality\",bins=60)\n",
    "plt.xlim([0,30])"
   ]
  },
  {
   "cell_type": "code",
   "execution_count": null,
   "metadata": {},
   "outputs": [],
   "source": []
  }
 ],
 "metadata": {
  "kernelspec": {
   "display_name": "Python 3",
   "language": "python",
   "name": "python3"
  },
  "language_info": {
   "codemirror_mode": {
    "name": "ipython",
    "version": 3
   },
   "file_extension": ".py",
   "mimetype": "text/x-python",
   "name": "python",
   "nbconvert_exporter": "python",
   "pygments_lexer": "ipython3",
   "version": "3.7.1"
  }
 },
 "nbformat": 4,
 "nbformat_minor": 2
}
