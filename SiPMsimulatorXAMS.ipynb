{
 "cells": [
  {
   "cell_type": "markdown",
   "metadata": {},
   "source": [
    "## XAMS SiPM simulation## "
   ]
  },
  {
   "cell_type": "code",
   "execution_count": 1,
   "metadata": {},
   "outputs": [],
   "source": [
    "#\n",
    "# import the SiPM classes\n",
    "#\n",
    "from SiPM import *\n",
    "# for plotting\n",
    "import matplotlib\n",
    "import matplotlib.pyplot as plt\n",
    "%matplotlib inline"
   ]
  },
  {
   "cell_type": "markdown",
   "metadata": {},
   "source": [
    "### Define general geometry parameters ###"
   ]
  },
  {
   "cell_type": "code",
   "execution_count": 2,
   "metadata": {},
   "outputs": [],
   "source": [
    "# z position of the in-plane SiPMs\n",
    "z_plane = 10\n",
    "# radius of the cyinder for SiPMs at the side\n",
    "r_cylinder = 22\n",
    "# radius of a SiPM - I assume circular SiPMs with a radius to make the area correspond to a 3x3mm2 square.\n",
    "r_sipm = 1.6925\n",
    "# build geometry\n",
    "geo = GeoParameters(z_plane=z_plane, r_cylinder=r_cylinder, r_sipm=r_sipm)"
   ]
  },
  {
   "cell_type": "markdown",
   "metadata": {},
   "source": [
    "### Define the geometry of the silicon PMs ###"
   ]
  },
  {
   "cell_type": "code",
   "execution_count": 3,
   "metadata": {},
   "outputs": [],
   "source": [
    "# generate a XAMS geometry with SiPMs in plane above the LXe\n",
    "for x in np.linspace(-15,15,3,endpoint=True):\n",
    "    for y in np.linspace(-15,15,3,endpoint=True):\n",
    "        sipm = SiPM(type=\"plane\",position=[x,y,z_plane],qeff=0.25)\n",
    "        geo.add_sipm(sipm)"
   ]
  },
  {
   "cell_type": "markdown",
   "metadata": {},
   "source": [
    "### Simulate the SiPM acceptance ###\n",
    "\n",
    "* uv_position is the position where the UV photons are generated\n",
    "* n_mc is the number of MC photons"
   ]
  },
  {
   "cell_type": "code",
   "execution_count": 13,
   "metadata": {},
   "outputs": [
    {
     "name": "stdout",
     "output_type": "stream",
     "text": [
      "generated  0  events\n",
      "generated  100000  events\n",
      "generated  200000  events\n",
      "generated  300000  events\n",
      "generated  400000  events\n",
      "generated  500000  events\n",
      "generated  600000  events\n",
      "generated  700000  events\n",
      "generated  800000  events\n",
      "generated  900000  events\n",
      "Number of SiPMs =  9  Generated hits from x= [7, -4, 0]\n",
      " 0  (x,y,z) = (-15.0, -15.0, 10.0) p(hit) = 0.00011  qe = 0.250\n",
      " 1  (x,y,z) = (-15.0,  0.0, 10.0) p(hit) = 0.00011  qe = 0.250\n",
      " 2  (x,y,z) = (-15.0, 15.0, 10.0) p(hit) = 0.00006  qe = 0.250\n",
      " 3  (x,y,z) = ( 0.0, -15.0, 10.0) p(hit) = 0.00042  qe = 0.250\n",
      " 4  (x,y,z) = ( 0.0,  0.0, 10.0) p(hit) = 0.00086  qe = 0.250\n",
      " 5  (x,y,z) = ( 0.0, 15.0, 10.0) p(hit) = 0.00016  qe = 0.250\n",
      " 6  (x,y,z) = (15.0, -15.0, 10.0) p(hit) = 0.00036  qe = 0.250\n",
      " 7  (x,y,z) = (15.0,  0.0, 10.0) p(hit) = 0.00072  qe = 0.250\n",
      " 8  (x,y,z) = (15.0, 15.0, 10.0) p(hit) = 0.00014  qe = 0.250\n",
      "event generation done\n"
     ]
    }
   ],
   "source": [
    "sim = Simulator(geo=geo,uv_position=[7,-4,0],n_mc=1000000)\n",
    "sim.generate_events()"
   ]
  },
  {
   "cell_type": "markdown",
   "metadata": {},
   "source": [
    "### Emulate events and reconstruct the position ###\n",
    "\n",
    "* n_event = number of events to emulate\n",
    "* n_uv = number of UV photons assumed for the S2 signal"
   ]
  },
  {
   "cell_type": "code",
   "execution_count": 36,
   "metadata": {},
   "outputs": [
    {
     "name": "stdout",
     "output_type": "stream",
     "text": [
      "generated  0  events\n",
      "generated  100  events\n",
      "generated  200  events\n",
      "generated  300  events\n",
      "generated  400  events\n",
      "generated  500  events\n",
      "generated  600  events\n",
      "generated  700  events\n",
      "<SiPM.SiPM object at 0x1134d1e48>  n =  1\n",
      "<SiPM.SiPM object at 0x1134d1e80>  n =  0\n",
      "<SiPM.SiPM object at 0x1134d1eb8>  n =  1\n",
      "<SiPM.SiPM object at 0x1134d1ef0>  n =  3\n",
      "<SiPM.SiPM object at 0x1134d1f28>  n =  17\n",
      "<SiPM.SiPM object at 0x1134d1f60>  n =  4\n",
      "<SiPM.SiPM object at 0x1134d1f98>  n =  3\n",
      "<SiPM.SiPM object at 0x1134d1fd0>  n =  8\n",
      "<SiPM.SiPM object at 0x1134e5048>  n =  1\n",
      "m_status = False\n",
      "generated  800  events\n",
      "generated  900  events\n",
      "<SiPM.SiPM object at 0x1134d1e48>  n =  0\n",
      "<SiPM.SiPM object at 0x1134d1e80>  n =  3\n",
      "<SiPM.SiPM object at 0x1134d1eb8>  n =  0\n",
      "<SiPM.SiPM object at 0x1134d1ef0>  n =  8\n",
      "<SiPM.SiPM object at 0x1134d1f28>  n =  13\n",
      "<SiPM.SiPM object at 0x1134d1f60>  n =  2\n",
      "<SiPM.SiPM object at 0x1134d1f98>  n =  6\n",
      "<SiPM.SiPM object at 0x1134d1fd0>  n =  11\n",
      "<SiPM.SiPM object at 0x1134e5048>  n =  3\n",
      "m_status = False\n",
      "reconstruction done\n"
     ]
    }
   ],
   "source": [
    "rec = Reconstruction(geo=geo,sim=sim)\n",
    "df = rec.emulate_events(n_uv=15000,n_event=1000,method=\"LNLIKE\",plot=False,nbins=100,range=((-30,30),(-30,30)))"
   ]
  },
  {
   "cell_type": "markdown",
   "metadata": {},
   "source": [
    "### Plots from here ...... ###"
   ]
  },
  {
   "cell_type": "code",
   "execution_count": 37,
   "metadata": {},
   "outputs": [
    {
     "name": "stdout",
     "output_type": "stream",
     "text": [
      "<xr> =  7.8279713015082235  +/- 0.279751996503588  mm\n",
      "    rms_x =  8.837683926722432  mm\n",
      "<yr> =  -4.375296659331099  +/- 0.15854271106858528  mm\n",
      "    rms_y =  5.00854466392294  mm\n"
     ]
    },
    {
     "data": {
      "image/png": "[encoded data removed]",
      "text/plain": [
       "<Figure size 504x360 with 1 Axes>"
      ]
     },
     "metadata": {},
     "output_type": "display_data"
    }
   ],
   "source": [
    "a = rec.plot(type=\"res\",bins=100,range=(-25,25))\n",
    "#a.set_ylim((0.1,1e3))\n"
   ]
  },
  {
   "cell_type": "code",
   "execution_count": 38,
   "metadata": {},
   "outputs": [
    {
     "data": {
      "image/png": "[encoded data removed]",
      "text/plain": [
       "<Figure size 576x576 with 1 Axes>"
      ]
     },
     "metadata": {},
     "output_type": "display_data"
    }
   ],
   "source": [
    "ax = rec.plot(type=\"xy\",range=((-25,25),(-25,25)),fcut=500000)"
   ]
  },
  {
   "cell_type": "code",
   "execution_count": 41,
   "metadata": {},
   "outputs": [
    {
     "name": "stdout",
     "output_type": "stream",
     "text": [
      " N(UV) reco =  44277.46584974653  +/- 10927.312757223703\n"
     ]
    },
    {
     "data": {
      "text/plain": [
       "<matplotlib.axes._subplots.AxesSubplot at 0x11706c128>"
      ]
     },
     "execution_count": 41,
     "metadata": {},
     "output_type": "execute_result"
    },
    {
     "data": {
      "image/png": "[encoded data removed]",
      "text/plain": [
       "<Figure size 432x288 with 1 Axes>"
      ]
     },
     "metadata": {},
     "output_type": "display_data"
    }
   ],
   "source": [
    "rec.plot(type=\"intensity\",range=(0,30000))"
   ]
  },
  {
   "cell_type": "code",
   "execution_count": 42,
   "metadata": {},
   "outputs": [
    {
     "data": {
      "text/plain": [
       "<matplotlib.axes._subplots.AxesSubplot at 0x116d5bfd0>"
      ]
     },
     "execution_count": 42,
     "metadata": {},
     "output_type": "execute_result"
    },
    {
     "data": {
      "image/png": "[encoded data removed]",
      "text/plain": [
       "<Figure size 432x288 with 1 Axes>"
      ]
     },
     "metadata": {},
     "output_type": "display_data"
    }
   ],
   "source": [
    "rec.plot(type=\"fval\",bins=60)"
   ]
  },
  {
   "cell_type": "code",
   "execution_count": null,
   "metadata": {},
   "outputs": [],
   "source": []
  }
 ],
 "metadata": {
  "kernelspec": {
   "display_name": "Python [conda root]",
   "language": "python",
   "name": "conda-root-py"
  },
  "language_info": {
   "codemirror_mode": {
    "name": "ipython",
    "version": 3
   },
   "file_extension": ".py",
   "mimetype": "text/x-python",
   "name": "python",
   "nbconvert_exporter": "python",
   "pygments_lexer": "ipython3",
   "version": "3.5.5"
  }
 },
 "nbformat": 4,
 "nbformat_minor": 2
}
