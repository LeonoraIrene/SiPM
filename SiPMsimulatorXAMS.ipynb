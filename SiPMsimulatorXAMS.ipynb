{
 "cells": [
  {
   "cell_type": "markdown",
   "metadata": {},
   "source": [
    "## XAMS SiPM simulation## "
   ]
  },
  {
   "cell_type": "code",
   "execution_count": 1,
   "metadata": {},
   "outputs": [],
   "source": [
    "#\n",
    "# import the SiPM classes\n",
    "#\n",
    "from SiPM import *\n",
    "# for plotting\n",
    "import matplotlib\n",
    "import matplotlib.pyplot as plt\n",
    "%matplotlib inline"
   ]
  },
  {
   "cell_type": "markdown",
   "metadata": {},
   "source": [
    "### Define general geometry parameters ###"
   ]
  },
  {
   "cell_type": "code",
   "execution_count": 2,
   "metadata": {},
   "outputs": [],
   "source": [
    "# z position of the in-plane SiPMs\n",
    "z_plane = 10\n",
    "# radius of the cyinder for SiPMs at the side\n",
    "r_cylinder = 22\n",
    "# radius of a SiPM - I assume circular SiPMs with a radius to make the area correspond to a 3x3mm2 square.\n",
    "r_sipm = 1.6925\n",
    "#wire thickness of anode wire\n",
    "wire_thickness = 4 *10**-3\n",
    "#wire spacing of anode wires\n",
    "wire_spacing = 2.6-wire_thickness\n",
    "# build geometry\n",
    "geo = GeoParameters(z_plane=z_plane, r_cylinder=r_cylinder, r_sipm=r_sipm, wire_thickness=wire_thickness, wire_spacing=wire_spacing)"
   ]
  },
  {
   "cell_type": "markdown",
   "metadata": {},
   "source": [
    "### Define the geometry of the silicon PMs ###"
   ]
  },
  {
   "cell_type": "code",
   "execution_count": 3,
   "metadata": {},
   "outputs": [],
   "source": [
    "# generate a XAMS geometry with SiPMs in plane above the LXe\n",
    "\n",
    "# center SiPMs\n",
    "sipm = SiPM(type=\"plane\",position=[0,4,z_plane],qeff=0.25)\n",
    "geo.add_sipm(sipm)\n",
    "sipm = SiPM(type=\"plane\",position=[0,-4,z_plane],qeff=0.25)\n",
    "geo.add_sipm(sipm)\n",
    "\n",
    "# ring SiPMs\n",
    "n_circ = 6\n",
    "r = 17.5\n",
    "for phi in np.linspace(0,2*np.pi,n_circ,endpoint=False):\n",
    "    sipm = SiPM(type=\"plane\",position=[r*np.cos(phi),r*np.sin(phi),z_plane],qeff=0.25)\n",
    "    geo.add_sipm(sipm)"
   ]
  },
  {
   "cell_type": "markdown",
   "metadata": {},
   "source": [
    "### Simulate the SiPM acceptance ###\n",
    "\n",
    "* uv_position is the position where the UV photons are generated\n",
    "* n_mc is the number of MC photons"
   ]
  },
  {
   "cell_type": "code",
   "execution_count": 4,
   "metadata": {},
   "outputs": [
    {
     "name": "stdout",
     "output_type": "stream",
     "text": [
      "simulate @ x=  0.0  mm simulate @ y=  0.0 mm\n",
      "generated  0  events\n",
      "Number of SiPMs =  8  Generated hits from x= [0. 0. 0.]\n",
      " 0  (x,y,z) = ( 0.0,  4.0, 10.0) p(hit) = 0.00143  qe = 0.250\n",
      " 1  (x,y,z) = ( 0.0, -4.0, 10.0) p(hit) = 0.00140  qe = 0.250\n",
      " 2  (x,y,z) = (17.5,  0.0, 10.0) p(hit) = 0.00021  qe = 0.250\n",
      " 3  (x,y,z) = ( 8.8, 15.2, 10.0) p(hit) = 0.00020  qe = 0.250\n",
      " 4  (x,y,z) = (-8.7, 15.2, 10.0) p(hit) = 0.00024  qe = 0.250\n",
      " 5  (x,y,z) = (-17.5,  0.0, 10.0) p(hit) = 0.00020  qe = 0.250\n",
      " 6  (x,y,z) = (-8.8, -15.2, 10.0) p(hit) = 0.00020  qe = 0.250\n",
      " 7  (x,y,z) = ( 8.7, -15.2, 10.0) p(hit) = 0.00018  qe = 0.250\n",
      "event generation done\n",
      "simulate @ x=  0.0  mm simulate @ y=  20.0 mm\n",
      "generated  0  events\n",
      "Number of SiPMs =  8  Generated hits from x= [ 0. 20.  0.]\n",
      " 0  (x,y,z) = ( 0.0,  4.0, 10.0) p(hit) = 0.00028  qe = 0.250\n",
      " 1  (x,y,z) = ( 0.0, -4.0, 10.0) p(hit) = 0.00009  qe = 0.250\n",
      " 2  (x,y,z) = (17.5,  0.0, 10.0) p(hit) = 0.00004  qe = 0.250\n",
      " 3  (x,y,z) = ( 8.8, 15.2, 10.0) p(hit) = 0.00061  qe = 0.250\n",
      " 4  (x,y,z) = (-8.7, 15.2, 10.0) p(hit) = 0.00060  qe = 0.250\n",
      " 5  (x,y,z) = (-17.5,  0.0, 10.0) p(hit) = 0.00009  qe = 0.250\n",
      " 6  (x,y,z) = (-8.8, -15.2, 10.0) p(hit) = 0.00003  qe = 0.250\n",
      " 7  (x,y,z) = ( 8.7, -15.2, 10.0) p(hit) = 0.00002  qe = 0.250\n",
      "event generation done\n",
      "simulate @ x=  20.0  mm simulate @ y=  0.0 mm\n",
      "generated  0  events\n",
      "Number of SiPMs =  8  Generated hits from x= [20.  0.  0.]\n",
      " 0  (x,y,z) = ( 0.0,  4.0, 10.0) p(hit) = 0.00012  qe = 0.250\n",
      " 1  (x,y,z) = ( 0.0, -4.0, 10.0) p(hit) = 0.00016  qe = 0.250\n",
      " 2  (x,y,z) = (17.5,  0.0, 10.0) p(hit) = 0.00159  qe = 0.250\n",
      " 3  (x,y,z) = ( 8.8, 15.2, 10.0) p(hit) = 0.00017  qe = 0.250\n",
      " 4  (x,y,z) = (-8.7, 15.2, 10.0) p(hit) = 0.00005  qe = 0.250\n",
      " 5  (x,y,z) = (-17.5,  0.0, 10.0) p(hit) = 0.00004  qe = 0.250\n",
      " 6  (x,y,z) = (-8.8, -15.2, 10.0) p(hit) = 0.00005  qe = 0.250\n",
      " 7  (x,y,z) = ( 8.7, -15.2, 10.0) p(hit) = 0.00020  qe = 0.250\n",
      "event generation done\n",
      "simulate @ x=  20.0  mm simulate @ y=  20.0 mm\n",
      "generated  0  events\n",
      "Number of SiPMs =  8  Generated hits from x= [20. 20.  0.]\n",
      " 0  (x,y,z) = ( 0.0,  4.0, 10.0) p(hit) = 0.00008  qe = 0.250\n",
      " 1  (x,y,z) = ( 0.0, -4.0, 10.0) p(hit) = 0.00006  qe = 0.250\n",
      " 2  (x,y,z) = (17.5,  0.0, 10.0) p(hit) = 0.00016  qe = 0.250\n",
      " 3  (x,y,z) = ( 8.8, 15.2, 10.0) p(hit) = 0.00049  qe = 0.250\n",
      " 4  (x,y,z) = (-8.7, 15.2, 10.0) p(hit) = 0.00008  qe = 0.250\n",
      " 5  (x,y,z) = (-17.5,  0.0, 10.0) p(hit) = 0.00003  qe = 0.250\n",
      " 6  (x,y,z) = (-8.8, -15.2, 10.0) p(hit) = 0.00001  qe = 0.250\n",
      " 7  (x,y,z) = ( 8.7, -15.2, 10.0) p(hit) = 0.00003  qe = 0.250\n",
      "event generation done\n"
     ]
    }
   ],
   "source": [
    "n_mc = 100000\n",
    "sims = []\n",
    "xbins = 2\n",
    "ybins = 2\n",
    "xmax = 20\n",
    "ymax = 20\n",
    "\n",
    "for x in np.linspace(0,xmax,xbins,endpoint=True):\n",
    "    for y in np.linspace(0,ymax,ybins,endpoint=True):\n",
    "        print(\"simulate @ x= \",x,\" mm\", \"simulate @ y= \",y, \"mm\")\n",
    "        sim = Simulator(geo=geo,uv_position=[x,y,0],n_mc=n_mc)\n",
    "        sim.generate_events()\n",
    "        sims.append(sim)"
   ]
  },
  {
   "cell_type": "markdown",
   "metadata": {},
   "source": [
    "### Emulate events and reconstruct the position ###\n",
    "\n",
    "* n_event = number of events to emulate\n",
    "* n_uv = number of UV photons assumed for the S2 signal"
   ]
  },
  {
   "cell_type": "code",
   "execution_count": 5,
   "metadata": {
    "scrolled": true
   },
   "outputs": [
    {
     "name": "stdout",
     "output_type": "stream",
     "text": [
      "generated  0  events\n",
      "generated  100  events\n",
      "generated  200  events\n",
      "generated  300  events\n",
      "generated  400  events\n",
      "generated  500  events\n",
      "generated  600  events\n",
      "generated  700  events\n",
      "generated  800  events\n",
      "generated  900  events\n",
      "generated  1000  events\n",
      "generated  1100  events\n",
      "generated  1200  events\n",
      "generated  1300  events\n",
      "generated  1400  events\n",
      "generated  1500  events\n",
      "generated  1600  events\n",
      "generated  1700  events\n",
      "generated  1800  events\n",
      "generated  1900  events\n",
      "generated  2000  events\n",
      "generated  2100  events\n",
      "generated  2200  events\n",
      "generated  2300  events\n",
      "generated  2400  events\n",
      "generated  2500  events\n",
      "generated  2600  events\n",
      "generated  2700  events\n",
      "generated  2800  events\n",
      "generated  2900  events\n",
      "generated  3000  events\n",
      "generated  3100  events\n",
      "generated  3200  events\n",
      "generated  3300  events\n",
      "generated  3400  events\n",
      "generated  3500  events\n",
      "generated  3600  events\n",
      "generated  3700  events\n",
      "generated  3800  events\n",
      "generated  3900  events\n",
      "generated  4000  events\n",
      "generated  4100  events\n",
      "generated  4200  events\n",
      "generated  4300  events\n",
      "generated  4400  events\n",
      "generated  4500  events\n",
      "generated  4600  events\n",
      "generated  4700  events\n",
      "generated  4800  events\n",
      "generated  4900  events\n",
      "generated  5000  events\n",
      "generated  5100  events\n",
      "generated  5200  events\n",
      "generated  5300  events\n",
      "generated  5400  events\n",
      "generated  5500  events\n",
      "generated  5600  events\n",
      "generated  5700  events\n",
      "generated  5800  events\n",
      "generated  5900  events\n",
      "generated  6000  events\n",
      "generated  6100  events\n",
      "generated  6200  events\n",
      "generated  6300  events\n",
      "generated  6400  events\n",
      "generated  6500  events\n",
      "generated  6600  events\n",
      "generated  6700  events\n",
      "generated  6800  events\n",
      "generated  6900  events\n",
      "generated  7000  events\n",
      "generated  7100  events\n",
      "generated  7200  events\n",
      "generated  7300  events\n",
      "generated  7400  events\n",
      "generated  7500  events\n",
      "generated  7600  events\n",
      "generated  7700  events\n",
      "generated  7800  events\n",
      "generated  7900  events\n",
      "generated  8000  events\n",
      "generated  8100  events\n",
      "generated  8200  events\n",
      "generated  8300  events\n",
      "generated  8400  events\n",
      "generated  8500  events\n",
      "generated  8600  events\n",
      "generated  8700  events\n",
      "generated  8800  events\n",
      "generated  8900  events\n",
      "generated  9000  events\n",
      "generated  9100  events\n",
      "generated  9200  events\n",
      "generated  9300  events\n",
      "generated  9400  events\n",
      "generated  9500  events\n",
      "generated  9600  events\n",
      "generated  9700  events\n",
      "generated  9800  events\n",
      "generated  9900  events\n",
      "reconstruction done\n",
      "                 I       chi2      fval  status  xgen        xr  ygen  \\\n",
      "0     56930.498161  32.436665  5.995674     1.0   0.0  1.247969   0.0   \n",
      "1     46781.571627  26.688227  4.707808     1.0   0.0 -0.151990   0.0   \n",
      "2     52657.038453  26.478783  1.740007     1.0   0.0 -0.235836   0.0   \n",
      "3     50719.812291  30.019638  6.370457     1.0   0.0 -0.998031   0.0   \n",
      "4     44747.670886  24.179061  3.184482     1.0   0.0 -0.169259   0.0   \n",
      "...            ...        ...       ...     ...   ...       ...   ...   \n",
      "9995  50024.717285  25.988871  2.873957     1.0   0.0 -1.478886   0.0   \n",
      "9996  43047.926759  26.692253  6.629065     1.0   0.0  1.036485   0.0   \n",
      "9997  54094.354218  32.505140  7.232255     1.0   0.0 -0.849516   0.0   \n",
      "9998  59116.954717  32.827383  5.833003     1.0   0.0  1.954125   0.0   \n",
      "9999  46235.374008  31.573528  9.865695     1.0   0.0  0.385887   0.0   \n",
      "\n",
      "            yr  \n",
      "0    -0.069156  \n",
      "1     0.421931  \n",
      "2     0.285780  \n",
      "3     0.474048  \n",
      "4    -0.979175  \n",
      "...        ...  \n",
      "9995  0.443700  \n",
      "9996 -0.360720  \n",
      "9997  0.547434  \n",
      "9998 -0.106522  \n",
      "9999  0.171571  \n",
      "\n",
      "[10000 rows x 8 columns]\n",
      "generated  0  events\n",
      "generated  100  events\n",
      "generated  200  events\n",
      "generated  300  events\n",
      "generated  400  events\n",
      "generated  500  events\n",
      "generated  600  events\n",
      "generated  700  events\n",
      "generated  800  events\n",
      "generated  900  events\n",
      "generated  1000  events\n",
      "generated  1100  events\n",
      "generated  1200  events\n",
      "generated  1300  events\n",
      "generated  1400  events\n",
      "generated  1500  events\n",
      "generated  1600  events\n",
      "generated  1700  events\n",
      "generated  1800  events\n",
      "generated  1900  events\n",
      "generated  2000  events\n",
      "generated  2100  events\n",
      "generated  2200  events\n",
      "generated  2300  events\n",
      "generated  2400  events\n",
      "generated  2500  events\n",
      "generated  2600  events\n",
      "generated  2700  events\n",
      "generated  2800  events\n",
      "generated  2900  events\n",
      "generated  3000  events\n",
      "generated  3100  events\n",
      "generated  3200  events\n",
      "generated  3300  events\n",
      "generated  3400  events\n",
      "generated  3500  events\n",
      "generated  3600  events\n",
      "generated  3700  events\n",
      "generated  3800  events\n",
      "generated  3900  events\n",
      "generated  4000  events\n",
      "generated  4100  events\n",
      "generated  4200  events\n",
      "generated  4300  events\n",
      "generated  4400  events\n",
      "generated  4500  events\n",
      "generated  4600  events\n",
      "generated  4700  events\n",
      "generated  4800  events\n",
      "generated  4900  events\n",
      "generated  5000  events\n",
      "generated  5100  events\n",
      "generated  5200  events\n",
      "generated  5300  events\n",
      "generated  5400  events\n",
      "generated  5500  events\n",
      "generated  5600  events\n",
      "generated  5700  events\n",
      "generated  5800  events\n",
      "generated  5900  events\n",
      "generated  6000  events\n",
      "generated  6100  events\n",
      "generated  6200  events\n",
      "generated  6300  events\n",
      "generated  6400  events\n",
      "generated  6500  events\n",
      "generated  6600  events\n",
      "generated  6700  events\n",
      "generated  6800  events\n",
      "generated  6900  events\n",
      "generated  7000  events\n",
      "generated  7100  events\n",
      "generated  7200  events\n",
      "generated  7300  events\n",
      "generated  7400  events\n",
      "generated  7500  events\n",
      "generated  7600  events\n",
      "generated  7700  events\n",
      "generated  7800  events\n",
      "generated  7900  events\n",
      "generated  8000  events\n",
      "generated  8100  events\n",
      "generated  8200  events\n",
      "generated  8300  events\n",
      "generated  8400  events\n",
      "generated  8500  events\n",
      "generated  8600  events\n",
      "generated  8700  events\n",
      "generated  8800  events\n",
      "generated  8900  events\n",
      "generated  9000  events\n",
      "generated  9100  events\n",
      "generated  9200  events\n",
      "generated  9300  events\n",
      "generated  9400  events\n",
      "generated  9500  events\n",
      "generated  9600  events\n",
      "generated  9700  events\n",
      "generated  9800  events\n",
      "generated  9900  events\n",
      "reconstruction done\n",
      "                 I       chi2       fval  status  xgen        xr  ygen  \\\n",
      "0     41314.335151  17.167720   7.731563     1.0   0.0 -0.407647  20.0   \n",
      "1     63532.628408  14.750192   4.910325     1.0   0.0 -0.235365  20.0   \n",
      "2     36646.003885  14.401697   5.432367     1.0   0.0  0.595317  20.0   \n",
      "3     42467.021246  18.588352   6.946104     1.0   0.0  0.209371  20.0   \n",
      "4     49106.590787  23.726805  10.958584     1.0   0.0 -0.304992  20.0   \n",
      "...            ...        ...        ...     ...   ...       ...   ...   \n",
      "9995  54414.196646  14.922422   3.901466     1.0   0.0  1.353619  20.0   \n",
      "9996  54902.250166  15.500946   5.408141     1.0   0.0  1.108910  20.0   \n",
      "9997  30416.777920  12.519572   3.757132     1.0   0.0  2.077655  20.0   \n",
      "9998  51253.545284  17.266785   6.866576     1.0   0.0  0.213830  20.0   \n",
      "9999  29683.136803  14.103240   5.362846     1.0   0.0 -0.336085  20.0   \n",
      "\n",
      "             yr  \n",
      "0     18.901084  \n",
      "1     23.243540  \n",
      "2     17.959538  \n",
      "3     16.098424  \n",
      "4     17.012518  \n",
      "...         ...  \n",
      "9995  20.451364  \n",
      "9996  21.499783  \n",
      "9997  15.530634  \n",
      "9998  20.353029  \n",
      "9999  14.689349  \n",
      "\n",
      "[10000 rows x 8 columns]\n",
      "generated  0  events\n",
      "generated  100  events\n",
      "generated  200  events\n",
      "generated  300  events\n",
      "generated  400  events\n",
      "generated  500  events\n",
      "generated  600  events\n",
      "generated  700  events\n",
      "generated  800  events\n",
      "generated  900  events\n",
      "generated  1000  events\n",
      "generated  1100  events\n",
      "generated  1200  events\n",
      "generated  1300  events\n",
      "generated  1400  events\n",
      "generated  1500  events\n",
      "generated  1600  events\n",
      "generated  1700  events\n",
      "generated  1800  events\n",
      "generated  1900  events\n",
      "generated  2000  events\n",
      "generated  2100  events\n",
      "generated  2200  events\n",
      "generated  2300  events\n",
      "generated  2400  events\n",
      "generated  2500  events\n",
      "generated  2600  events\n",
      "generated  2700  events\n",
      "generated  2800  events\n",
      "generated  2900  events\n",
      "generated  3000  events\n",
      "generated  3100  events\n",
      "generated  3200  events\n",
      "generated  3300  events\n",
      "generated  3400  events\n",
      "generated  3500  events\n",
      "generated  3600  events\n",
      "generated  3700  events\n",
      "generated  3800  events\n",
      "generated  3900  events\n",
      "generated  4000  events\n",
      "generated  4100  events\n",
      "generated  4200  events\n",
      "generated  4300  events\n",
      "generated  4400  events\n",
      "generated  4500  events\n",
      "generated  4600  events\n",
      "generated  4700  events\n"
     ]
    },
    {
     "name": "stdout",
     "output_type": "stream",
     "text": [
      "generated  4800  events\n",
      "generated  4900  events\n",
      "generated  5000  events\n",
      "generated  5100  events\n",
      "generated  5200  events\n",
      "generated  5300  events\n",
      "generated  5400  events\n",
      "generated  5500  events\n",
      "generated  5600  events\n",
      "generated  5700  events\n",
      "generated  5800  events\n",
      "generated  5900  events\n",
      "generated  6000  events\n",
      "generated  6100  events\n",
      "generated  6200  events\n",
      "<SiPM.SiPM object at 0x7fc308cb9e20>  n =  8\n",
      "<SiPM.SiPM object at 0x7fc308cb9df0>  n =  7\n",
      "<SiPM.SiPM object at 0x7fc308cb9ac0>  n =  77\n",
      "<SiPM.SiPM object at 0x7fc308cb9a00>  n =  9\n",
      "<SiPM.SiPM object at 0x7fc308cb9910>  n =  3\n",
      "<SiPM.SiPM object at 0x7fc308cb9130>  n =  0\n",
      "<SiPM.SiPM object at 0x7fc308cb9880>  n =  2\n",
      "<SiPM.SiPM object at 0x7fc308cb93a0>  n =  10\n",
      "m_status = False\n"
     ]
    },
    {
     "name": "stderr",
     "output_type": "stream",
     "text": [
      "/home/leonora/SiPM/SiPM.py:757: RuntimeWarning: divide by zero encountered in double_scalars\n",
      "  lnlike = lnlike + res * res / nexpected\n",
      "/home/leonora/SiPM/SiPM.py:757: RuntimeWarning: invalid value encountered in double_scalars\n",
      "  lnlike = lnlike + res * res / nexpected\n"
     ]
    },
    {
     "name": "stdout",
     "output_type": "stream",
     "text": [
      "generated  6300  events\n",
      "generated  6400  events\n",
      "generated  6500  events\n",
      "generated  6600  events\n",
      "generated  6700  events\n",
      "generated  6800  events\n",
      "generated  6900  events\n",
      "generated  7000  events\n",
      "generated  7100  events\n",
      "generated  7200  events\n",
      "generated  7300  events\n",
      "generated  7400  events\n",
      "generated  7500  events\n",
      "generated  7600  events\n",
      "generated  7700  events\n",
      "generated  7800  events\n",
      "generated  7900  events\n",
      "generated  8000  events\n",
      "generated  8100  events\n",
      "generated  8200  events\n",
      "generated  8300  events\n",
      "generated  8400  events\n",
      "generated  8500  events\n",
      "generated  8600  events\n",
      "generated  8700  events\n",
      "generated  8800  events\n",
      "generated  8900  events\n",
      "generated  9000  events\n",
      "generated  9100  events\n",
      "generated  9200  events\n",
      "generated  9300  events\n",
      "generated  9400  events\n",
      "generated  9500  events\n",
      "generated  9600  events\n",
      "generated  9700  events\n",
      "generated  9800  events\n",
      "generated  9900  events\n",
      "reconstruction done\n",
      "                  I       chi2       fval  status  xgen         xr  ygen  \\\n",
      "0      66452.142180  17.963354   5.076015     1.0  20.0  23.433310   0.0   \n",
      "1      56263.281841  17.934917   4.516495     1.0  20.0  21.227991   0.0   \n",
      "2      63345.410092  20.976743   7.396291     1.0  20.0  22.412860   0.0   \n",
      "3      80090.935772  16.109213   3.533672     1.0  20.0  25.023136   0.0   \n",
      "4      41213.827483  16.624360   4.021392     1.0  20.0  16.797119   0.0   \n",
      "...             ...        ...        ...     ...   ...        ...   ...   \n",
      "9995   44119.320888  30.957837  16.845774     1.0  20.0  16.196046   0.0   \n",
      "9996  106072.292934  25.243585  10.370780     1.0  20.0  25.609587   0.0   \n",
      "9997   92981.666243  19.991510   7.102668     1.0  20.0  26.077988   0.0   \n",
      "9998   74177.798666  24.897659  12.493227     1.0  20.0  24.548017   0.0   \n",
      "9999   53488.396498  24.243519  12.406545     1.0  20.0  22.256312   0.0   \n",
      "\n",
      "            yr  \n",
      "0    -0.062251  \n",
      "1    -1.901807  \n",
      "2    -1.403992  \n",
      "3    -1.810891  \n",
      "4    -2.314950  \n",
      "...        ...  \n",
      "9995 -1.064027  \n",
      "9996 -3.352044  \n",
      "9997  1.562995  \n",
      "9998 -1.535026  \n",
      "9999 -0.212249  \n",
      "\n",
      "[10000 rows x 8 columns]\n",
      "generated  0  events\n",
      "generated  100  events\n",
      "generated  200  events\n",
      "generated  300  events\n",
      "generated  400  events\n",
      "generated  500  events\n",
      "generated  600  events\n",
      "generated  700  events\n",
      "generated  800  events\n",
      "generated  900  events\n",
      "generated  1000  events\n",
      "generated  1100  events\n",
      "generated  1200  events\n",
      "generated  1300  events\n",
      "generated  1400  events\n",
      "generated  1500  events\n",
      "generated  1600  events\n",
      "generated  1700  events\n",
      "generated  1800  events\n",
      "generated  1900  events\n",
      "generated  2000  events\n",
      "generated  2100  events\n",
      "generated  2200  events\n",
      "generated  2300  events\n",
      "generated  2400  events\n",
      "generated  2500  events\n",
      "generated  2600  events\n",
      "generated  2700  events\n",
      "generated  2800  events\n",
      "generated  2900  events\n",
      "generated  3000  events\n",
      "generated  3100  events\n",
      "generated  3200  events\n",
      "generated  3300  events\n",
      "generated  3400  events\n",
      "generated  3500  events\n",
      "generated  3600  events\n",
      "generated  3700  events\n",
      "generated  3800  events\n",
      "generated  3900  events\n",
      "generated  4000  events\n",
      "generated  4100  events\n",
      "generated  4200  events\n",
      "generated  4300  events\n",
      "generated  4400  events\n",
      "generated  4500  events\n",
      "generated  4600  events\n",
      "generated  4700  events\n",
      "generated  4800  events\n",
      "generated  4900  events\n",
      "generated  5000  events\n",
      "generated  5100  events\n",
      "generated  5200  events\n",
      "generated  5300  events\n",
      "generated  5400  events\n",
      "generated  5500  events\n",
      "generated  5600  events\n",
      "generated  5700  events\n",
      "generated  5800  events\n",
      "generated  5900  events\n",
      "generated  6000  events\n",
      "generated  6100  events\n",
      "generated  6200  events\n",
      "generated  6300  events\n",
      "generated  6400  events\n",
      "generated  6500  events\n",
      "generated  6600  events\n",
      "generated  6700  events\n",
      "generated  6800  events\n",
      "generated  6900  events\n",
      "generated  7000  events\n",
      "generated  7100  events\n",
      "generated  7200  events\n",
      "generated  7300  events\n",
      "generated  7400  events\n",
      "generated  7500  events\n",
      "generated  7600  events\n",
      "generated  7700  events\n",
      "generated  7800  events\n",
      "generated  7900  events\n",
      "generated  8000  events\n",
      "generated  8100  events\n",
      "generated  8200  events\n",
      "generated  8300  events\n",
      "generated  8400  events\n",
      "generated  8500  events\n",
      "generated  8600  events\n",
      "generated  8700  events\n",
      "generated  8800  events\n",
      "generated  8900  events\n",
      "generated  9000  events\n",
      "<SiPM.SiPM object at 0x7fc308cb72e0>  n =  5\n",
      "<SiPM.SiPM object at 0x7fc308cb7370>  n =  1\n",
      "<SiPM.SiPM object at 0x7fc308cb73a0>  n =  6\n",
      "<SiPM.SiPM object at 0x7fc308cb7400>  n =  24\n",
      "<SiPM.SiPM object at 0x7fc308cb7460>  n =  3\n",
      "<SiPM.SiPM object at 0x7fc308cb74c0>  n =  1\n",
      "<SiPM.SiPM object at 0x7fc308cb7520>  n =  0\n",
      "<SiPM.SiPM object at 0x7fc308cb7580>  n =  2\n",
      "m_status = False\n"
     ]
    },
    {
     "name": "stderr",
     "output_type": "stream",
     "text": [
      "/home/leonora/SiPM/SiPM.py:757: RuntimeWarning: divide by zero encountered in double_scalars\n",
      "  lnlike = lnlike + res * res / nexpected\n",
      "/home/leonora/SiPM/SiPM.py:757: RuntimeWarning: invalid value encountered in double_scalars\n",
      "  lnlike = lnlike + res * res / nexpected\n"
     ]
    },
    {
     "name": "stdout",
     "output_type": "stream",
     "text": [
      "generated  9100  events\n",
      "generated  9200  events\n",
      "generated  9300  events\n",
      "generated  9400  events\n",
      "generated  9500  events\n",
      "generated  9600  events\n",
      "generated  9700  events\n",
      "generated  9800  events\n",
      "generated  9900  events\n",
      "reconstruction done\n",
      "                 I       chi2       fval  status  xgen         xr  ygen  \\\n",
      "0     20314.649551  18.464396  12.154809     1.0  20.0  10.490035  20.0   \n",
      "1     53673.325635   7.091719   1.387847     1.0  20.0  20.434160  20.0   \n",
      "2     36156.185847  13.058646   5.652189     1.0  20.0  15.556980  20.0   \n",
      "3     58649.311309   9.794677   3.946982     1.0  20.0  20.933832  20.0   \n",
      "4     21592.179172   9.190248   4.013768     1.0  20.0  12.688663  20.0   \n",
      "...            ...        ...        ...     ...   ...        ...   ...   \n",
      "9995  20635.935873   8.028964   1.316787     1.0  20.0   9.333512  20.0   \n",
      "9996  25630.351669   8.319792   2.230941     1.0  20.0  14.264432  20.0   \n",
      "9997  19542.037709  12.277750   6.830336     1.0  20.0  12.378623  20.0   \n",
      "9998  16682.748805   8.337517   3.206431     1.0  20.0  10.319054  20.0   \n",
      "9999  15654.515042   6.915707   1.647670     1.0  20.0   7.441542  20.0   \n",
      "\n",
      "             yr  \n",
      "0     11.983587  \n",
      "1     18.204132  \n",
      "2     14.667130  \n",
      "3     18.484237  \n",
      "4     17.056948  \n",
      "...         ...  \n",
      "9995  13.839266  \n",
      "9996  13.597268  \n",
      "9997   9.131796  \n",
      "9998  10.178202  \n",
      "9999  13.521384  \n",
      "\n",
      "[10000 rows x 8 columns]\n"
     ]
    }
   ],
   "source": [
    "recs = []\n",
    "n_uv = 50000\n",
    "for sim in sims:\n",
    "    rec = Reconstruction(sim=sim)\n",
    "    rec.emulate_events(n_uv=n_uv,n_event=10000,method=\"CHI2\",plot=False,nbins=1000,range=((-30,30),(-30,30)))\n",
    "    recs.append(rec)"
   ]
  },
  {
   "cell_type": "code",
   "execution_count": 6,
   "metadata": {},
   "outputs": [
    {
     "name": "stderr",
     "output_type": "stream",
     "text": [
      "/home/leonora/SiPM/SiPM.py:831: RuntimeWarning: invalid value encountered in double_scalars\n",
      "  self.phidif[i,j] = np.arctan(rec.df_rec.yr.mean()/rec.df_rec.xr.mean())-np.arctan(rec.sim.get_x0()[1]/rec.sim.get_x0()[0])\n",
      "/home/leonora/SiPM/SiPM.py:831: RuntimeWarning: divide by zero encountered in double_scalars\n",
      "  self.phidif[i,j] = np.arctan(rec.df_rec.yr.mean()/rec.df_rec.xr.mean())-np.arctan(rec.sim.get_x0()[1]/rec.sim.get_x0()[0])\n"
     ]
    },
    {
     "data": {
      "image/png": "[encoded data removed]",
      "text/plain": [
       "<Figure size 432x288 with 2 Axes>"
      ]
     },
     "metadata": {
      "needs_background": "light"
     },
     "output_type": "display_data"
    },
    {
     "data": {
      "image/png": "[encoded data removed]",
      "text/plain": [
       "<Figure size 432x288 with 2 Axes>"
      ]
     },
     "metadata": {
      "needs_background": "light"
     },
     "output_type": "display_data"
    },
    {
     "data": {
      "image/png": "[encoded data removed]",
      "text/plain": [
       "<Figure size 432x288 with 2 Axes>"
      ]
     },
     "metadata": {
      "needs_background": "light"
     },
     "output_type": "display_data"
    },
    {
     "data": {
      "image/png": "[encoded data removed]",
      "text/plain": [
       "<Figure size 432x288 with 2 Axes>"
      ]
     },
     "metadata": {
      "needs_background": "light"
     },
     "output_type": "display_data"
    }
   ],
   "source": [
    "ana = Analysis(recs=recs, xsize=xbins, ysize=ybins, xmax= xmax, ymax=ymax)\n",
    "\n",
    "ana.merge()\n",
    "ana.plot2d(type = \"xdif\")\n",
    "ana.plot2d(type = \"ydif\")\n",
    "ana.plot2d(type = \"xsig\")\n",
    "ana.plot2d(type = \"ysig\")"
   ]
  },
  {
   "cell_type": "markdown",
   "metadata": {},
   "source": [
    "# Plots from here ...... #"
   ]
  },
  {
   "cell_type": "code",
   "execution_count": 7,
   "metadata": {},
   "outputs": [
    {
     "name": "stderr",
     "output_type": "stream",
     "text": [
      "<ipython-input-7-ecf979186f5f>:28: RuntimeWarning: invalid value encountered in double_scalars\n",
      "  dphi.append(np.arctan(df.yr.mean()/df.xr.mean())-np.arctan(reco.sim.get_x0()[1]/reco.sim.get_x0()[0]))\n",
      "<ipython-input-7-ecf979186f5f>:28: RuntimeWarning: divide by zero encountered in double_scalars\n",
      "  dphi.append(np.arctan(df.yr.mean()/df.xr.mean())-np.arctan(reco.sim.get_x0()[1]/reco.sim.get_x0()[0]))\n"
     ]
    },
    {
     "name": "stdout",
     "output_type": "stream",
     "text": [
      "[0.014266702578111728, 0.04500750982126549, 0.03749212010600228, 0.07590853262132542]\n",
      "[0.0, 20.0, 20.0, 28.284271247461902]\n"
     ]
    },
    {
     "data": {
      "image/png": "[encoded data removed]",
      "text/plain": [
       "<Figure size 432x288 with 1 Axes>"
      ]
     },
     "metadata": {
      "needs_background": "light"
     },
     "output_type": "display_data"
    },
    {
     "data": {
      "image/png": "[encoded data removed]",
      "text/plain": [
       "<Figure size 432x288 with 1 Axes>"
      ]
     },
     "metadata": {
      "needs_background": "light"
     },
     "output_type": "display_data"
    },
    {
     "data": {
      "image/png": "[encoded data removed]",
      "text/plain": [
       "<Figure size 432x288 with 1 Axes>"
      ]
     },
     "metadata": {
      "needs_background": "light"
     },
     "output_type": "display_data"
    },
    {
     "data": {
      "image/png": "[encoded data removed]",
      "text/plain": [
       "<Figure size 432x288 with 1 Axes>"
      ]
     },
     "metadata": {
      "needs_background": "light"
     },
     "output_type": "display_data"
    },
    {
     "data": {
      "image/png": "[encoded data removed]",
      "text/plain": [
       "<Figure size 432x288 with 1 Axes>"
      ]
     },
     "metadata": {
      "needs_background": "light"
     },
     "output_type": "display_data"
    },
    {
     "data": {
      "image/png": "[encoded data removed]",
      "text/plain": [
       "<Figure size 432x288 with 1 Axes>"
      ]
     },
     "metadata": {
      "needs_background": "light"
     },
     "output_type": "display_data"
    }
   ],
   "source": [
    "sx = []\n",
    "sy = []\n",
    "sr=[]\n",
    "sphi=[]\n",
    "x0 = []\n",
    "y0 = []\n",
    "r0 =[]\n",
    "phi0 =[]\n",
    "dx = []\n",
    "dy = []\n",
    "dr=[]\n",
    "dphi=[]\n",
    "dx_err = []\n",
    "dy_err = []\n",
    "dr_err = []\n",
    "dphi_err = []\n",
    "\n",
    "\n",
    "# loop through all the simulated locations\n",
    "for reco in recs:\n",
    "    df = reco.df_rec[reco.df_rec.status == 1]\n",
    "    #print('xr =',df.xr.mean(),' yr =',df.yr.mean())\n",
    "    dxtemp = df.xr.mean()-reco.sim.get_x0()[0]\n",
    "    dytemp = df.yr.mean()-reco.sim.get_x0()[1]\n",
    "    dx.append(dxtemp)\n",
    "    dy.append(dytemp)\n",
    "    dr.append((df.xr.mean()**2+df.yr.mean()**2)**0.5-(reco.sim.get_x0()[0]**2+reco.sim.get_x0()[1]**2)**0.5)\n",
    "    dphi.append(np.arctan(df.yr.mean()/df.xr.mean())-np.arctan(reco.sim.get_x0()[1]/reco.sim.get_x0()[0]))\n",
    "\n",
    "    sx.append(df.xr.sem())\n",
    "    sy.append(df.yr.sem())\n",
    "    sr.append(((df.xr.sem())**2+(df.yr.sem())**2)**0.5)\n",
    "    sphi.append(np.arctan(df.yr.sem()/df.xr.sem()))\n",
    "    x0temp = reco.sim.get_x0()[0]\n",
    "    y0temp = reco.sim.get_x0()[1]\n",
    "    x0.append(x0temp)\n",
    "    y0.append(y0temp)\n",
    "    r0.append(((reco.sim.get_x0()[0])**2+(reco.sim.get_x0()[1])**2)**0.5)\n",
    "    if x0temp != 0 and y0temp != 0:\n",
    "        phi0.append(np.arctan(y0temp/x0temp))\n",
    "    else:\n",
    "        phi0.append(np.nan)\n",
    "        \n",
    "print(sr)\n",
    "print(r0)\n",
    "\n",
    "# reconstruction resolution\n",
    "dx_err = np.array(sx)/np.sqrt(n_uv)\n",
    "dy_err = np.array(sy)/np.sqrt(n_uv)\n",
    "dr_err = np.array(sr)/np.sqrt(n_uv)\n",
    "dphi_err = np.array(sphi)/np.sqrt(n_uv)\n",
    "\n",
    "\n",
    "plt.plot(x0,sx,'bo')\n",
    "plt.plot(x0,sy,'rx')\n",
    "plt.xlabel('Generated position (mm)',fontsize=18)\n",
    "plt.ylabel('$\\sigma$ (mm)',fontsize=18)\n",
    "plt.legend(['x','y'])\n",
    "plt.show()\n",
    "\n",
    "plt.plot(r0,sr, 'g+')\n",
    "plt.xlabel('Generated position (mm)',fontsize=18)\n",
    "plt.ylabel('$\\sigma$ (mm)',fontsize=18)\n",
    "plt.legend(['r'])\n",
    "plt.show()\n",
    "\n",
    "plt.plot(phi0,sphi, 'y.')\n",
    "plt.xlabel('Generated position (mm)',fontsize=18)\n",
    "plt.ylabel('$\\sigma$ (mm)',fontsize=18)\n",
    "plt.legend(['phi'])\n",
    "plt.show()\n",
    "\n",
    "# reconstruction bias\n",
    "plt.errorbar(x0,dx,fmt='bo',yerr=dx_err)\n",
    "plt.errorbar(y0,dy,fmt='rx',yerr=dy_err)\n",
    "plt.xlabel('Generated position x0,y0 (mm)',fontsize=18)\n",
    "plt.ylabel('<gen-rec> (mm)',fontsize=18)\n",
    "plt.legend(['x','y'])\n",
    "plt.show()\n",
    "\n",
    "plt.errorbar(r0,dr,fmt='g+',yerr=dr_err)\n",
    "plt.xlabel('Generated position r0(mm)',fontsize=18)\n",
    "plt.ylabel('<gen-rec> (mm)',fontsize=18)\n",
    "plt.legend(['r'])\n",
    "plt.show()\n",
    "\n",
    "plt.errorbar(phi0,dphi,fmt='y.',yerr=dphi_err)\n",
    "plt.xlabel('Generated position phi0(mm)',fontsize=18)\n",
    "plt.ylabel('<gen-rec> (mm)',fontsize=18)\n",
    "plt.legend(['phi'])\n",
    "plt.show()"
   ]
  },
  {
   "cell_type": "code",
   "execution_count": null,
   "metadata": {},
   "outputs": [],
   "source": []
  },
  {
   "cell_type": "code",
   "execution_count": 8,
   "metadata": {},
   "outputs": [
    {
     "ename": "IndexError",
     "evalue": "list index out of range",
     "output_type": "error",
     "traceback": [
      "\u001b[0;31m---------------------------------------------------------------------------\u001b[0m",
      "\u001b[0;31mIndexError\u001b[0m                                Traceback (most recent call last)",
      "\u001b[0;32m<ipython-input-8-30fe2a68c9c4>\u001b[0m in \u001b[0;36m<module>\u001b[0;34m\u001b[0m\n\u001b[1;32m      1\u001b[0m \u001b[0mi\u001b[0m\u001b[0;34m=\u001b[0m\u001b[0;36m39\u001b[0m\u001b[0;34m\u001b[0m\u001b[0;34m\u001b[0m\u001b[0m\n\u001b[1;32m      2\u001b[0m \u001b[0;34m\u001b[0m\u001b[0m\n\u001b[0;32m----> 3\u001b[0;31m \u001b[0mrec\u001b[0m \u001b[0;34m=\u001b[0m \u001b[0mrecs\u001b[0m\u001b[0;34m[\u001b[0m\u001b[0mi\u001b[0m\u001b[0;34m]\u001b[0m\u001b[0;34m\u001b[0m\u001b[0;34m\u001b[0m\u001b[0m\n\u001b[0m\u001b[1;32m      4\u001b[0m \u001b[0mprint\u001b[0m\u001b[0;34m(\u001b[0m\u001b[0;34m'generated pos = '\u001b[0m\u001b[0;34m,\u001b[0m \u001b[0mrec\u001b[0m\u001b[0;34m.\u001b[0m\u001b[0msim\u001b[0m\u001b[0;34m.\u001b[0m\u001b[0mget_x0\u001b[0m\u001b[0;34m(\u001b[0m\u001b[0;34m)\u001b[0m\u001b[0;34m)\u001b[0m\u001b[0;34m\u001b[0m\u001b[0;34m\u001b[0m\u001b[0m\n\u001b[1;32m      5\u001b[0m \u001b[0mrecs\u001b[0m\u001b[0;34m[\u001b[0m\u001b[0mi\u001b[0m\u001b[0;34m]\u001b[0m\u001b[0;34m.\u001b[0m\u001b[0mplot\u001b[0m\u001b[0;34m(\u001b[0m\u001b[0mtype\u001b[0m\u001b[0;34m=\u001b[0m\u001b[0;34m\"res\"\u001b[0m\u001b[0;34m,\u001b[0m\u001b[0mbins\u001b[0m\u001b[0;34m=\u001b[0m\u001b[0;36m100\u001b[0m\u001b[0;34m,\u001b[0m\u001b[0mrange\u001b[0m\u001b[0;34m=\u001b[0m\u001b[0;34m(\u001b[0m\u001b[0;34m-\u001b[0m\u001b[0;36m25\u001b[0m\u001b[0;34m,\u001b[0m\u001b[0;36m25\u001b[0m\u001b[0;34m)\u001b[0m\u001b[0;34m)\u001b[0m\u001b[0;34m\u001b[0m\u001b[0;34m\u001b[0m\u001b[0m\n",
      "\u001b[0;31mIndexError\u001b[0m: list index out of range"
     ]
    }
   ],
   "source": [
    "i=39\n",
    "\n",
    "rec = recs[i]\n",
    "print('generated pos = ', rec.sim.get_x0())\n",
    "recs[i].plot(type=\"res\",bins=100,range=(-25,25))"
   ]
  },
  {
   "cell_type": "code",
   "execution_count": null,
   "metadata": {},
   "outputs": [],
   "source": [
    "i=33\n",
    "rec = recs[i]\n",
    "print(rec.sim.get_x0())\n",
    "ax = recs[i].plot(type=\"xy\",range=((-25,25),(-25,25)))"
   ]
  },
  {
   "cell_type": "code",
   "execution_count": null,
   "metadata": {},
   "outputs": [],
   "source": [
    "recs[i].plot(type=\"intensity\",range=(0,90000))"
   ]
  },
  {
   "cell_type": "code",
   "execution_count": null,
   "metadata": {},
   "outputs": [],
   "source": [
    "recs[i].plot(type=\"fit_quality\",bins=60)"
   ]
  },
  {
   "cell_type": "code",
   "execution_count": null,
   "metadata": {},
   "outputs": [],
   "source": [
    "df = df.replace([np.inf, -np.inf], np.nan).dropna()"
   ]
  },
  {
   "cell_type": "code",
   "execution_count": null,
   "metadata": {},
   "outputs": [],
   "source": [
    "import scipy.stats as stats\n",
    "# Plot the theoretical density of f\n",
    "x = np.arange(0, 50, .05)\n",
    "plt.plot(x, 350*stats.chi2.pdf(x, df=5), color='r', lw=2)\n",
    "#h=plt.hist(df['chi2'],bins=50)\n",
    "rec.plot(type=\"fit_quality\",bins=60)\n",
    "plt.xlim([0,30])"
   ]
  },
  {
   "cell_type": "code",
   "execution_count": null,
   "metadata": {},
   "outputs": [],
   "source": []
  },
  {
   "cell_type": "code",
   "execution_count": null,
   "metadata": {},
   "outputs": [],
   "source": []
  },
  {
   "cell_type": "code",
   "execution_count": null,
   "metadata": {},
   "outputs": [],
   "source": []
  },
  {
   "cell_type": "code",
   "execution_count": null,
   "metadata": {},
   "outputs": [],
   "source": []
  }
 ],
 "metadata": {
  "kernelspec": {
   "display_name": "Python 3",
   "language": "python",
   "name": "python3"
  },
  "language_info": {
   "codemirror_mode": {
    "name": "ipython",
    "version": 3
   },
   "file_extension": ".py",
   "mimetype": "text/x-python",
   "name": "python",
   "nbconvert_exporter": "python",
   "pygments_lexer": "ipython3",
   "version": "3.8.2"
  }
 },
 "nbformat": 4,
 "nbformat_minor": 2
}
