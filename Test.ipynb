{
 "cells": [
  {
   "cell_type": "code",
   "execution_count": 1,
   "metadata": {},
   "outputs": [],
   "source": [
    "#\n",
    "# import the SiPM classes\n",
    "#\n",
    "from SiPM import *\n",
    "# for plotting\n",
    "import matplotlib\n",
    "import matplotlib.pyplot as plt\n",
    "%matplotlib inline"
   ]
  },
  {
   "cell_type": "code",
   "execution_count": 2,
   "metadata": {},
   "outputs": [],
   "source": [
    "# z position of the in-plane SiPMs\n",
    "z_plane = 10\n",
    "# radius of the cyinder for SiPMs at the side\n",
    "r_cylinder = 22\n",
    "# radius of a SiPM - I assume circular SiPMs with a radius to make the area correspond to a 3x3mm2 square.\n",
    "r_sipm = 1.6925\n",
    "# build geometry\n",
    "geo = GeoParameters(z_plane=z_plane, r_cylinder=r_cylinder, r_sipm=r_sipm)"
   ]
  },
  {
   "cell_type": "code",
   "execution_count": 3,
   "metadata": {},
   "outputs": [],
   "source": [
    "# generate a XAMS geometry with SiPMs in plane above the LXe\n",
    "\n",
    "# center SiPMs\n",
    "sipm = SiPM(type=\"plane\",position=[0,4,z_plane],qeff=0.25)\n",
    "geo.add_sipm(sipm)\n",
    "sipm = SiPM(type=\"plane\",position=[0,-4,z_plane],qeff=0.25)\n",
    "geo.add_sipm(sipm)\n",
    "\n",
    "# ring SiPMs\n",
    "n_circ = 6\n",
    "r = 17.5\n",
    "for phi in np.linspace(0,2*np.pi,n_circ,endpoint=False):\n",
    "    sipm = SiPM(type=\"plane\",position=[r*np.cos(phi),r*np.sin(phi),z_plane],qeff=0.25)\n",
    "    geo.add_sipm(sipm)"
   ]
  },
  {
   "cell_type": "code",
   "execution_count": 4,
   "metadata": {},
   "outputs": [
    {
     "name": "stdout",
     "output_type": "stream",
     "text": [
      "simulate @ x=  0.0  mm simulate @ y=  0.0 mm\n",
      "generated  0  events\n",
      "Number of SiPMs =  8  Generated hits from x= [0. 0. 0.]\n",
      " 0  (x,y,z) = ( 0.0,  4.0, 10.0) p(hit) = 0.00125  qe = 0.250\n",
      " 1  (x,y,z) = ( 0.0, -4.0, 10.0) p(hit) = 0.00150  qe = 0.250\n",
      " 2  (x,y,z) = (17.5,  0.0, 10.0) p(hit) = 0.00000  qe = 0.250\n",
      " 3  (x,y,z) = ( 8.8, 15.2, 10.0) p(hit) = 0.00025  qe = 0.250\n",
      " 4  (x,y,z) = (-8.7, 15.2, 10.0) p(hit) = 0.00000  qe = 0.250\n",
      " 5  (x,y,z) = (-17.5,  0.0, 10.0) p(hit) = 0.00000  qe = 0.250\n",
      " 6  (x,y,z) = (-8.8, -15.2, 10.0) p(hit) = 0.00025  qe = 0.250\n",
      " 7  (x,y,z) = ( 8.7, -15.2, 10.0) p(hit) = 0.00050  qe = 0.250\n",
      "event generation done\n",
      "simulate @ x=  0.0  mm simulate @ y=  20.0 mm\n",
      "generated  0  events\n",
      "Number of SiPMs =  8  Generated hits from x= [ 0. 20.  0.]\n",
      " 0  (x,y,z) = ( 0.0,  4.0, 10.0) p(hit) = 0.00025  qe = 0.250\n",
      " 1  (x,y,z) = ( 0.0, -4.0, 10.0) p(hit) = 0.00000  qe = 0.250\n",
      " 2  (x,y,z) = (17.5,  0.0, 10.0) p(hit) = 0.00000  qe = 0.250\n",
      " 3  (x,y,z) = ( 8.8, 15.2, 10.0) p(hit) = 0.00075  qe = 0.250\n",
      " 4  (x,y,z) = (-8.7, 15.2, 10.0) p(hit) = 0.00075  qe = 0.250\n",
      " 5  (x,y,z) = (-17.5,  0.0, 10.0) p(hit) = 0.00025  qe = 0.250\n",
      " 6  (x,y,z) = (-8.8, -15.2, 10.0) p(hit) = 0.00000  qe = 0.250\n",
      " 7  (x,y,z) = ( 8.7, -15.2, 10.0) p(hit) = 0.00000  qe = 0.250\n",
      "event generation done\n",
      "simulate @ x=  20.0  mm simulate @ y=  0.0 mm\n",
      "generated  0  events\n",
      "Number of SiPMs =  8  Generated hits from x= [20.  0.  0.]\n",
      " 0  (x,y,z) = ( 0.0,  4.0, 10.0) p(hit) = 0.00025  qe = 0.250\n",
      " 1  (x,y,z) = ( 0.0, -4.0, 10.0) p(hit) = 0.00025  qe = 0.250\n",
      " 2  (x,y,z) = (17.5,  0.0, 10.0) p(hit) = 0.00100  qe = 0.250\n",
      " 3  (x,y,z) = ( 8.8, 15.2, 10.0) p(hit) = 0.00000  qe = 0.250\n",
      " 4  (x,y,z) = (-8.7, 15.2, 10.0) p(hit) = 0.00000  qe = 0.250\n",
      " 5  (x,y,z) = (-17.5,  0.0, 10.0) p(hit) = 0.00000  qe = 0.250\n",
      " 6  (x,y,z) = (-8.8, -15.2, 10.0) p(hit) = 0.00000  qe = 0.250\n",
      " 7  (x,y,z) = ( 8.7, -15.2, 10.0) p(hit) = 0.00000  qe = 0.250\n",
      "event generation done\n",
      "simulate @ x=  20.0  mm simulate @ y=  20.0 mm\n",
      "generated  0  events\n",
      "Number of SiPMs =  8  Generated hits from x= [20. 20.  0.]\n",
      " 0  (x,y,z) = ( 0.0,  4.0, 10.0) p(hit) = 0.00025  qe = 0.250\n",
      " 1  (x,y,z) = ( 0.0, -4.0, 10.0) p(hit) = 0.00000  qe = 0.250\n",
      " 2  (x,y,z) = (17.5,  0.0, 10.0) p(hit) = 0.00025  qe = 0.250\n",
      " 3  (x,y,z) = ( 8.8, 15.2, 10.0) p(hit) = 0.00025  qe = 0.250\n",
      " 4  (x,y,z) = (-8.7, 15.2, 10.0) p(hit) = 0.00000  qe = 0.250\n",
      " 5  (x,y,z) = (-17.5,  0.0, 10.0) p(hit) = 0.00000  qe = 0.250\n",
      " 6  (x,y,z) = (-8.8, -15.2, 10.0) p(hit) = 0.00000  qe = 0.250\n",
      " 7  (x,y,z) = ( 8.7, -15.2, 10.0) p(hit) = 0.00000  qe = 0.250\n",
      "event generation done\n"
     ]
    }
   ],
   "source": [
    "n_mc = 1000\n",
    "sims = []\n",
    "xbins = 2\n",
    "ybins = 2\n",
    "xmax = 20\n",
    "ymax = 20\n",
    "\n",
    "for x in np.linspace(0,xmax,xbins,endpoint=True):\n",
    "    for y in np.linspace(0,ymax,ybins,endpoint=True):\n",
    "        print(\"simulate @ x= \",x,\" mm\", \"simulate @ y= \",y, \"mm\")\n",
    "        sim = Simulator(geo=geo,uv_position=[x,y,0],n_mc=n_mc)\n",
    "        sim.generate_events()\n",
    "        sims.append(sim)"
   ]
  },
  {
   "cell_type": "code",
   "execution_count": 5,
   "metadata": {},
   "outputs": [
    {
     "name": "stdout",
     "output_type": "stream",
     "text": [
      "generated  0  events\n",
      "reconstruction done\n",
      "              I       chi2       fval  status  xgen        xr  ygen        yr\n",
      "0  57681.169792  64.481252  38.463975     1.0   0.0  2.030990   0.0 -2.274655\n",
      "1  50341.404917  57.443683  34.677363     1.0   0.0  1.925715   0.0 -2.317302\n",
      "2  54254.452565  61.232994  37.519186     1.0   0.0  2.916655   0.0 -2.351529\n",
      "3  57397.968760  74.084657  47.981989     1.0   0.0  1.865750   0.0 -1.870437\n",
      "4  54267.804553  65.220980  40.762299     1.0   0.0  2.333157   0.0 -0.848289\n",
      "5  52835.191375  60.796204  37.957871     1.0   0.0  3.244427   0.0 -2.096296\n",
      "6  52212.138341  61.022134  37.532692     1.0   0.0  2.328946   0.0 -1.336313\n",
      "7  56788.596635  64.073586  38.717162     1.0   0.0  2.129251   0.0 -2.900182\n",
      "8  53522.893678  75.881339  52.665615     1.0   0.0  3.261729   0.0 -1.487545\n",
      "9  46176.969950  55.757357  35.211363     1.0   0.0  2.653787   0.0 -1.258237\n",
      "generated  0  events\n",
      "reconstruction done\n",
      "               I       chi2       fval  status  xgen        xr  ygen  \\\n",
      "0  211156.013011  43.925318  29.335935     1.0   0.0 -0.094769  20.0   \n",
      "1   47101.604119  48.796122  36.077569     1.0   0.0 -1.624769  20.0   \n",
      "2   55015.959906  50.727007  35.881569     1.0   0.0 -1.408898  20.0   \n",
      "3  363930.924442  54.762100  40.021318     1.0   0.0 -6.515798  20.0   \n",
      "4  384694.514142  55.086799  41.394026     1.0   0.0  0.791040  20.0   \n",
      "5  258393.585712  45.858359  31.485340     1.0   0.0 -5.056643  20.0   \n",
      "6  322007.575246  54.438619  39.928115     1.0   0.0 -0.796739  20.0   \n",
      "7   54861.135043  27.735242  16.244882     1.0   0.0  0.867827  20.0   \n",
      "8  175632.685383  41.412201  28.234652     1.0   0.0 -3.969430  20.0   \n",
      "9   54080.205532  44.797172  30.800341     1.0   0.0 -2.367434  20.0   \n",
      "\n",
      "          yr  \n",
      "0  31.099303  \n",
      "1  16.590841  \n",
      "2  16.548492  \n",
      "3  36.341198  \n",
      "4  38.245006  \n",
      "5  33.102166  \n",
      "6  35.567765  \n",
      "7  20.013324  \n",
      "8  30.197506  \n",
      "9  17.496614  \n",
      "generated  0  events\n",
      "reconstruction done\n",
      "              I       chi2       fval  status  xgen         xr  ygen        yr\n",
      "0  31350.574213  36.058666  25.935842     1.0  20.0  13.314474   0.0  0.134980\n",
      "1  24935.726137  29.023698  20.979940     1.0  20.0  13.905485   0.0 -0.836737\n",
      "2  30390.417898  34.562080  24.732099     1.0  20.0  13.652654   0.0 -0.140513\n",
      "3  29302.823176  33.671149  24.208107     1.0  20.0  13.346674   0.0  0.144525\n",
      "4  28487.332794  34.007544  24.846184     1.0  20.0  12.213951   0.0  0.287901\n",
      "5  30657.539681  35.676099  25.786749     1.0  20.0  13.859025   0.0  0.817103\n",
      "6  31416.262403  33.629010  23.422632     1.0  20.0  15.261673   0.0 -0.141636\n",
      "7  31974.327619  36.948267  26.671562     1.0  20.0  15.524474   0.0 -1.151436\n",
      "8  37161.585097  44.297671  32.351241     1.0  20.0  13.217783   0.0 -0.881851\n",
      "9  37891.844832  46.135743  33.984875     1.0  20.0  12.660404   0.0  0.956143\n",
      "generated  0  events\n",
      "reconstruction done\n",
      "              I       chi2       fval  status  xgen         xr  ygen        yr\n",
      "0  15720.950066  19.937449  14.827675     1.0  20.0   8.504567  20.0  6.595239\n",
      "1  14009.903005  12.610363   8.529975     1.0  20.0  11.463957  20.0  9.657058\n",
      "2  21370.011836  25.629608  19.044932     1.0  20.0  10.381082  20.0  5.543108\n",
      "3  14796.304588  21.356640  16.597391     1.0  20.0   9.456302  20.0  4.180109\n",
      "4  21706.563059  26.654439  19.908653     1.0  20.0  10.120852  20.0  5.461376\n",
      "5  19158.853558  17.340936  11.836837     1.0  20.0  11.733309  20.0  9.085278\n",
      "6  18431.019709  19.578454  13.955179     1.0  20.0  10.214424  20.0  7.771438\n",
      "7  16442.302410  19.609059  14.410365     1.0  20.0   9.265980  20.0  6.777899\n",
      "8  12855.760204  16.558903  12.268212     1.0  20.0   7.653834  20.0  7.249911\n",
      "9  14903.702403  18.569889  13.852519     1.0  20.0   9.392909  20.0  5.957628\n"
     ]
    }
   ],
   "source": [
    "recs = []\n",
    "for sim in sims:\n",
    "    rec = Reconstruction(sim=sim)\n",
    "    rec.emulate_events(n_uv=50000,n_event=10,method=\"CHI2\",plot=False,nbins=1000,range=((-30,30),(-30,30)))\n",
    "    recs.append(rec)"
   ]
  },
  {
   "cell_type": "code",
   "execution_count": 6,
   "metadata": {},
   "outputs": [
    {
     "name": "stdout",
     "output_type": "stream",
     "text": [
      "Analysis::plot BAD plot type selected. type= xdif\n",
      "Analysis::plot BAD plot type selected. type= ydif\n"
     ]
    },
    {
     "data": {
      "image/png": "[encoded data removed]",
      "text/plain": [
       "<Figure size 432x288 with 2 Axes>"
      ]
     },
     "metadata": {
      "needs_background": "light"
     },
     "output_type": "display_data"
    },
    {
     "data": {
      "image/png": "[encoded data removed]",
      "text/plain": [
       "<Figure size 432x288 with 2 Axes>"
      ]
     },
     "metadata": {
      "needs_background": "light"
     },
     "output_type": "display_data"
    },
    {
     "data": {
      "image/png": "[encoded data removed]",
      "text/plain": [
       "<Figure size 432x288 with 2 Axes>"
      ]
     },
     "metadata": {
      "needs_background": "light"
     },
     "output_type": "display_data"
    },
    {
     "data": {
      "image/png": "[encoded data removed]",
      "text/plain": [
       "<Figure size 432x288 with 2 Axes>"
      ]
     },
     "metadata": {
      "needs_background": "light"
     },
     "output_type": "display_data"
    }
   ],
   "source": [
    "ana = Analysis(recs=recs, xsize=xbins, ysize=ybins, xmax= xmax, ymax=ymax)\n",
    "\n",
    "ana.merge()\n",
    "ana.plot(type = \"xdif\")\n",
    "ana.plot(type = \"ydif\")\n",
    "ana.plot(type = \"xsig\")\n",
    "ana.plot(type = \"ysig\")"
   ]
  },
  {
   "cell_type": "code",
   "execution_count": 7,
   "metadata": {},
   "outputs": [],
   "source": [
    "#import matplotlib.pyplot as plt\n",
    "#import numpy as np\n",
    "#from mpl_toolkits.axes_grid1.anchored_artists import AnchoredDirectionArrows\n",
    "#import matplotlib.font_manager as fm\n",
    "\n",
    "#fig, ax = plt.subplots()\n",
    "#ax.imshow(np.random.random((10, 10)))\n",
    "\n",
    "#simple_arrow = AnchoredDirectionArrows(ax.transAxes, 'X', 'Y')\n",
    "#ax.add_artist(simple_arrow)\n",
    "\n",
    "#high_contrast_part_1 = AnchoredDirectionArrows(\n",
    "#                            ax.transAxes,\n",
    "#                            '111', r'11$\\overline{2}$',\n",
    "#                            loc='upper right',\n",
    "#                            arrow_props={'ec': 'w', 'fc': 'none', 'alpha': 1,\n",
    "#                                         'lw': 2}\n",
    "#                            )\n",
    "#ax.add_artist(high_contrast_part_1)"
   ]
  },
  {
   "cell_type": "code",
   "execution_count": 8,
   "metadata": {},
   "outputs": [],
   "source": [
    "#import matplotlib.pyplot as plt\n",
    "#from matplotlib.offsetbox import AnchoredText\n",
    "\n",
    "\n",
    "#fig, ax = plt.subplots(figsize=(3, 3))\n",
    "\n",
    "#at = AnchoredText(\"\", prop=dict(size=15), frameon=True, loc='upper left')\n",
    "\n",
    "#ax.add_artist(at)\n",
    "#at.patch.set_boxstyle(\"round,pad=0.,rounding_size=0.2\")\n",
    "\n",
    "\n",
    "#sq = plt.Rectangle(xy=(xs[0] - dx / 2, xs[1] - dx / 2),\n",
    "#                    height=dx,\n",
    "#                    width=dx,\n",
    "#                    fill=False, color='blue')\n",
    "#            ax.add_artist(sq)\n",
    "\n",
    "#plt.show()\n"
   ]
  },
  {
   "cell_type": "code",
   "execution_count": null,
   "metadata": {},
   "outputs": [],
   "source": []
  },
  {
   "cell_type": "code",
   "execution_count": null,
   "metadata": {},
   "outputs": [],
   "source": []
  }
 ],
 "metadata": {
  "kernelspec": {
   "display_name": "Python 3",
   "language": "python",
   "name": "python3"
  },
  "language_info": {
   "codemirror_mode": {
    "name": "ipython",
    "version": 3
   },
   "file_extension": ".py",
   "mimetype": "text/x-python",
   "name": "python",
   "nbconvert_exporter": "python",
   "pygments_lexer": "ipython3",
   "version": "3.8.2"
  }
 },
 "nbformat": 4,
 "nbformat_minor": 4
}
